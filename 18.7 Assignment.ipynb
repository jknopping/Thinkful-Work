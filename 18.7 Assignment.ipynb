{
 "cells": [
  {
   "cell_type": "markdown",
   "metadata": {},
   "source": [
    "    JACOB KNOPPING\n",
    "    1/21/2020\n",
    "    \n",
    "## 18.7 Assignment\n",
    "\n",
    "In this assignment, you'll continue working with the house prices data. To complete this assignment, submit a link to a Jupyter notebook containing your solutions to the following tasks:\n",
    "\n",
    "* Load the **houseprices** data from Thinkful's database.\n",
    "* Reimplement your model from the previous checkpoint.\n",
    "* Try OLS, Lasso, Ridge, and ElasticNet regression using the same model specification. This time, you need to do **k-fold cross-validation** to choose the best hyperparameter values for your models. Scikit-learn has RidgeCV, LassoCV, and ElasticNetCV that you can utilize to do this. Which model is the best? Why?"
   ]
  },
  {
   "cell_type": "markdown",
   "metadata": {},
   "source": [
    "### SOLUTION"
   ]
  },
  {
   "cell_type": "code",
   "execution_count": 1,
   "metadata": {},
   "outputs": [],
   "source": [
    "#Re-implement model\n",
    "\n",
    "# import the relevant libraries:\n",
    "import numpy as np\n",
    "import pandas as pd\n",
    "import seaborn as sns\n",
    "import matplotlib.pyplot as plt\n",
    "\n",
    "from sklearn import linear_model\n",
    "from sklearn.linear_model import LinearRegression\n",
    "from sklearn.model_selection import train_test_split\n",
    "from sklearn.metrics import mean_absolute_error\n",
    "import statsmodels.api as sm\n",
    "from statsmodels.tools.eval_measures import mse, rmse\n",
    "from sqlalchemy import create_engine\n",
    "\n",
    "import warnings\n",
    "warnings.filterwarnings('ignore')\n",
    "\n",
    "postgres_user = 'dsbc_student'\n",
    "postgres_pw = '7*.8G9QH21'\n",
    "postgres_host = '142.93.121.174'\n",
    "postgres_port = '5432'\n",
    "postgres_db = 'houseprices'\n",
    "\n",
    "#load the data from the PostgreSQL database\n",
    "engine = create_engine('postgresql://{}:{}@{}:{}/{}'.format(\n",
    "    postgres_user, postgres_pw, postgres_host, postgres_port, postgres_db))\n",
    "\n",
    "houseprices_df = pd.read_sql_query('SELECT * FROM houseprices', con=engine)\n",
    "\n",
    "#no need for an open connection (just the one query)\n",
    "engine.dispose()\n",
    "\n",
    "non_numeric_columns = houseprices_df.select_dtypes(['object']).columns\n",
    "numeric_columns = houseprices_df.select_dtypes(['int64', 'float64']).columns\n",
    "\n",
    "houseprices_copy = houseprices_df.copy()\n",
    "houseprices_df.drop(['alley', 'fireplacequ', 'poolqc', 'fence', 'miscfeature'], axis=1, inplace=True)\n",
    "\n",
    "fill_list = list(houseprices_df.columns)\n",
    "for column in fill_list:\n",
    "    houseprices_df[column].interpolate(inplace=True)\n",
    "    \n",
    "houseprices_df = houseprices_df.fillna(houseprices_df.mode().iloc[0])\n",
    "\n",
    "from scipy.stats.mstats import winsorize\n",
    "\n",
    "houseprices_df['winsorized_overallqual'] = winsorize(houseprices_df.overallqual, (0.05, 0.00))\n",
    "houseprices_df['winsorized_grlivarea'] = winsorize(houseprices_df.grlivarea, (0.00, 0.05))\n",
    "houseprices_df['winsorized_garagecars'] = winsorize(houseprices_df.garagecars, (0.00, 0.05))\n",
    "houseprices_df['winsorized_garagearea'] = winsorize(houseprices_df.garagearea, (0.00, 0.05))\n",
    "houseprices_df['winsorized_totalbsmtsf'] = winsorize(houseprices_df.totalbsmtsf, (0.05, 0.05))\n",
    "\n",
    "#Selecting the features for categorical variables as a dummy list\n",
    "houseprices_df = pd.concat([houseprices_df,pd.get_dummies(houseprices_df.mszoning, prefix=\"mszoning\", drop_first=True)], axis=1)\n",
    "houseprices_df = pd.concat([houseprices_df,pd.get_dummies(houseprices_df.street, prefix=\"street\", drop_first=True)], axis=1)\n",
    "houseprices_df = pd.concat([houseprices_df,pd.get_dummies(houseprices_df.utilities, prefix=\"utilities\", drop_first=True)], axis=1)\n",
    "houseprices_df = pd.concat([houseprices_df,pd.get_dummies(houseprices_df.neighborhood, prefix=\"neighborhood\", drop_first=True)], axis=1)\n",
    "houseprices_df = pd.concat([houseprices_df,pd.get_dummies(houseprices_df.exterqual, prefix=\"exterqual\", drop_first=True)], axis=1)\n",
    "houseprices_df = pd.concat([houseprices_df,pd.get_dummies(houseprices_df.kitchenqual, prefix=\"kitchenqual\", drop_first=True)], axis=1)\n",
    "\n",
    "dummy_column_names = list(pd.get_dummies(houseprices_df.mszoning, prefix=\"mszoning\", drop_first=True).columns)\n",
    "dummy_column_names = dummy_column_names + list(pd.get_dummies(houseprices_df.street, prefix=\"street\", drop_first=True).columns)\n",
    "dummy_column_names = dummy_column_names + list(pd.get_dummies(houseprices_df.utilities, prefix=\"utilities\", drop_first=True).columns)\n",
    "dummy_column_names = dummy_column_names + list(pd.get_dummies(houseprices_df.neighborhood, prefix=\"neighborhood\", drop_first=True).columns)\n",
    "dummy_column_names = dummy_column_names + list(pd.get_dummies(houseprices_df.exterqual, prefix=\"exterqual\", drop_first=True).columns)\n",
    "dummy_column_names = dummy_column_names + list(pd.get_dummies(houseprices_df.kitchenqual, prefix=\"kitchenqual\", drop_first=True).columns)"
   ]
  },
  {
   "cell_type": "code",
   "execution_count": 2,
   "metadata": {},
   "outputs": [
    {
     "name": "stdout",
     "output_type": "stream",
     "text": [
      "R-squared of the model in the training set is: 0.8646568780369258\n",
      "-----Test set statistics-----\n",
      "R-squared of the model in the test set is: 0.8630854071431089\n",
      "Mean absolute error of the prediction is: 0.1133008349216371\n",
      "Mean squared error of the prediction is: 0.02282991261842369\n",
      "Root mean squared error of the prediction is: 0.1510957068166521\n",
      "Mean absolute percentage error of the prediction is: 0.9473702255293278\n"
     ]
    }
   ],
   "source": [
    "#MODEL using OLS\n",
    "\n",
    "#Feature set(X)\n",
    "X = houseprices_df[['winsorized_overallqual', 'winsorized_grlivarea', 'winsorized_garagecars', 'winsorized_totalbsmtsf'] + dummy_column_names]\n",
    "#Log transform the target variable(Y)\n",
    "Y = np.log1p(houseprices_df.saleprice)\n",
    "\n",
    "#Train and test sets\n",
    "X_train, X_test, y_train, y_test = train_test_split(X, Y, test_size=0.2, random_state=465)\n",
    "\n",
    "# We fit an OLS model using sklearn\n",
    "lrm = LinearRegression()\n",
    "lrm.fit(X_train, y_train)\n",
    "\n",
    "# We are making predictions here\n",
    "y_preds_train = lrm.predict(X_train)\n",
    "y_preds_test = lrm.predict(X_test)\n",
    "\n",
    "print(\"R-squared of the model in the training set is: {}\".format(lrm.score(X_train, y_train)))\n",
    "print(\"-----Test set statistics-----\")\n",
    "print(\"R-squared of the model in the test set is: {}\".format(lrm.score(X_test, y_test)))\n",
    "print(\"Mean absolute error of the prediction is: {}\".format(mean_absolute_error(y_test, y_preds_test)))\n",
    "print(\"Mean squared error of the prediction is: {}\".format(mse(y_test, y_preds_test)))\n",
    "print(\"Root mean squared error of the prediction is: {}\".format(rmse(y_test, y_preds_test)))\n",
    "print(\"Mean absolute percentage error of the prediction is: {}\".format(np.mean(np.abs((y_test - y_preds_test) / y_test)) * 100))"
   ]
  },
  {
   "cell_type": "code",
   "execution_count": 3,
   "metadata": {},
   "outputs": [
    {
     "name": "stdout",
     "output_type": "stream",
     "text": [
      "Best alpha value is: 1.0\n",
      "R-squared of the model in training set is: 0.8637673365967764\n",
      "-----Test set statistics-----\n",
      "R-squared of the model in test set is: 0.8587829700406089\n",
      "Mean absolute error of the prediction is: 0.11438904815466043\n",
      "Mean squared error of the prediction is: 0.02354732528457393\n",
      "Root mean squared error of the prediction is: 0.15345137759099436\n",
      "Mean absolute percentage error of the prediction is: 0.9572076490906779\n"
     ]
    }
   ],
   "source": [
    "#MODEL using Ridge regression\n",
    "\n",
    "from sklearn.linear_model import LinearRegression, LassoCV, RidgeCV, ElasticNetCV\n",
    "\n",
    "alphas = [np.power(10.0,p) for p in np.arange(-10,40,1)]\n",
    "\n",
    "#fitting a ridge regression model\n",
    "#alpha is regularization parameter, here (usually called lamda, which doesn't\n",
    "#work in python because it is a keyword!)\n",
    "ridge_cv = RidgeCV(alphas=alphas, cv=5)\n",
    "ridge_cv.fit(X_train, y_train)\n",
    "\n",
    "y_preds_train = ridge_cv.predict(X_train)\n",
    "y_preds_test = ridge_cv.predict(X_test)\n",
    "\n",
    "print(\"Best alpha value is: {}\".format(ridge_cv.alpha_))\n",
    "print(\"R-squared of the model in training set is: {}\".format(ridge_cv.score(X_train, y_train)))\n",
    "print(\"-----Test set statistics-----\")\n",
    "print(\"R-squared of the model in test set is: {}\".format(ridge_cv.score(X_test, y_test)))\n",
    "print(\"Mean absolute error of the prediction is: {}\".format(mean_absolute_error(y_test, y_preds_test)))\n",
    "print(\"Mean squared error of the prediction is: {}\".format(mse(y_test, y_preds_test)))\n",
    "print(\"Root mean squared error of the prediction is: {}\".format(rmse(y_test, y_preds_test)))\n",
    "print(\"Mean absolute percentage error of the prediction is: {}\".format(np.mean(np.abs((y_test - y_preds_test) / y_test)) * 100))"
   ]
  },
  {
   "cell_type": "code",
   "execution_count": 4,
   "metadata": {
    "scrolled": true
   },
   "outputs": [
    {
     "name": "stdout",
     "output_type": "stream",
     "text": [
      "Best alpha value is: 0.0001\n",
      "R-squared of the model in training set is: 0.8641632254524528\n",
      "-----Test set statistics-----\n",
      "R-squared of the model in test set is: 0.8598082216321428\n",
      "Mean absolute error of the prediction is: 0.11413124342757196\n",
      "Mean squared error of the prediction is: 0.023376369042743043\n",
      "Root mean squared error of the prediction is: 0.152893325697177\n",
      "Mean absolute percentage error of the prediction is: 0.9547201754973095\n"
     ]
    }
   ],
   "source": [
    "#MODEL using Lasso regression\n",
    "lasso_cv = LassoCV(alphas=alphas, cv=5)\n",
    "\n",
    "lasso_cv.fit(X_train, y_train)\n",
    "\n",
    "# We are making predictions here\n",
    "y_preds_train = lasso_cv.predict(X_train)\n",
    "y_preds_test = lasso_cv.predict(X_test)\n",
    "\n",
    "print(\"Best alpha value is: {}\".format(lasso_cv.alpha_))\n",
    "print(\"R-squared of the model in training set is: {}\".format(lasso_cv.score(X_train, y_train)))\n",
    "print(\"-----Test set statistics-----\")\n",
    "print(\"R-squared of the model in test set is: {}\".format(lasso_cv.score(X_test, y_test)))\n",
    "print(\"Mean absolute error of the prediction is: {}\".format(mean_absolute_error(y_test, y_preds_test)))\n",
    "print(\"Mean squared error of the prediction is: {}\".format(mse(y_test, y_preds_test)))\n",
    "print(\"Root mean squared error of the prediction is: {}\".format(rmse(y_test, y_preds_test)))\n",
    "print(\"Mean absolute percentage error of the prediction is: {}\".format(np.mean(np.abs((y_test - y_preds_test) / y_test)) * 100))"
   ]
  },
  {
   "cell_type": "code",
   "execution_count": 5,
   "metadata": {},
   "outputs": [
    {
     "name": "stdout",
     "output_type": "stream",
     "text": [
      "Best alpha value is: 0.0001\n",
      "R-squared of the model in training set is: 0.864449493441301\n",
      "-----Test set statistics-----\n",
      "R-squared of the model in test set is: 0.8611366642899303\n",
      "Mean absolute error of the prediction is: 0.11372265608339417\n",
      "Mean squared error of the prediction is: 0.02315485700985423\n",
      "Root mean squared error of the prediction is: 0.15216720083465501\n",
      "Mean absolute percentage error of the prediction is: 0.9511584841466773\n"
     ]
    }
   ],
   "source": [
    "#MODEL using ElasticNet regression\n",
    "elasticnet_cv = ElasticNetCV(alphas=alphas, cv=5)\n",
    "\n",
    "elasticnet_cv.fit(X_train, y_train)\n",
    "\n",
    "# We are making predictions here\n",
    "y_preds_train = elasticnet_cv.predict(X_train)\n",
    "y_preds_test = elasticnet_cv.predict(X_test)\n",
    "\n",
    "print(\"Best alpha value is: {}\".format(elasticnet_cv.alpha_))\n",
    "print(\"R-squared of the model in training set is: {}\".format(elasticnet_cv.score(X_train, y_train)))\n",
    "print(\"-----Test set statistics-----\")\n",
    "print(\"R-squared of the model in test set is: {}\".format(elasticnet_cv.score(X_test, y_test)))\n",
    "print(\"Mean absolute error of the prediction is: {}\".format(mean_absolute_error(y_test, y_preds_test)))\n",
    "print(\"Mean squared error of the prediction is: {}\".format(mse(y_test, y_preds_test)))\n",
    "print(\"Root mean squared error of the prediction is: {}\".format(rmse(y_test, y_preds_test)))\n",
    "print(\"Mean absolute percentage error of the prediction is: {}\".format(np.mean(np.abs((y_test - y_preds_test) / y_test)) * 100))"
   ]
  },
  {
   "cell_type": "markdown",
   "metadata": {},
   "source": [
    "Therefore, the best model is the OLS regression model, as that is the model with highest R-squared value."
   ]
  }
 ],
 "metadata": {
  "kernelspec": {
   "display_name": "Python 3",
   "language": "python",
   "name": "python3"
  },
  "language_info": {
   "codemirror_mode": {
    "name": "ipython",
    "version": 3
   },
   "file_extension": ".py",
   "mimetype": "text/x-python",
   "name": "python",
   "nbconvert_exporter": "python",
   "pygments_lexer": "ipython3",
   "version": "3.7.3"
  }
 },
 "nbformat": 4,
 "nbformat_minor": 2
}
