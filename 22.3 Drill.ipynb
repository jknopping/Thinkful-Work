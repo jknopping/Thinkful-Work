{
 "cells": [
  {
   "cell_type": "markdown",
   "metadata": {},
   "source": [
    "    JACOB KNOPPING\n",
    "    1/30/2020\n",
    "    \n",
    "    22.3 DRILL: GRADIENT BOOSTING\n",
    "    \n",
    "### Starter Code"
   ]
  },
  {
   "cell_type": "code",
   "execution_count": 1,
   "metadata": {},
   "outputs": [],
   "source": [
    "import pandas as pd\n",
    "import numpy as np\n",
    "import scipy\n",
    "import matplotlib.pyplot as plt\n",
    "%matplotlib inline\n",
    "\n",
    "from sklearn import ensemble\n",
    "from sklearn import datasets\n",
    "from sklearn.utils import shuffle\n",
    "from sklearn.metrics import mean_squared_error"
   ]
  },
  {
   "cell_type": "code",
   "execution_count": 2,
   "metadata": {},
   "outputs": [],
   "source": [
    "df = pd.read_csv((\n",
    "    \"https://raw.githubusercontent.com/Thinkful-Ed/data-201-resources/\"\n",
    "    \"master/ESS_practice_data/ESSdata_Thinkful.csv\")).dropna()\n",
    "\n",
    "# Definine outcome and predictors.\n",
    "# Set our outcome to 0 and 1.\n",
    "y = df['partner'] - 1\n",
    "X = df.loc[:, ~df.columns.isin(['partner', 'cntry', 'idno'])]\n",
    "\n",
    "# Make the categorical variable 'country' into dummies.\n",
    "X = pd.concat([X, pd.get_dummies(df['cntry'])], axis=1)\n",
    "\n",
    "# Create training and test sets.\n",
    "offset = int(X.shape[0] * 0.9)\n",
    "\n",
    "# Put 90% of the data in the training set.\n",
    "X_train, y_train = X[:offset], y[:offset]\n",
    "\n",
    "# And put 10% in the test set.\n",
    "X_test, y_test = X[offset:], y[offset:]"
   ]
  },
  {
   "cell_type": "code",
   "execution_count": 3,
   "metadata": {},
   "outputs": [
    {
     "name": "stdout",
     "output_type": "stream",
     "text": [
      "Training set accuracy:\n",
      "Percent Type I errors: 0.04650845608292417\n",
      "Percent Type II errors: 0.17607746863066012\n",
      "\n",
      "Test set accuracy:\n",
      "Percent Type I errors: 0.06257668711656442\n",
      "Percent Type II errors: 0.18527607361963191\n"
     ]
    }
   ],
   "source": [
    "# We'll make 500 iterations, use 2-deep trees, and set our loss function.\n",
    "params = {'n_estimators': 500,\n",
    "          'max_depth': 2,\n",
    "          'loss': 'deviance'}\n",
    "\n",
    "# Initialize and fit the model.\n",
    "clf = ensemble.GradientBoostingClassifier(**params)\n",
    "clf.fit(X_train, y_train)\n",
    "\n",
    "predict_train = clf.predict(X_train)\n",
    "predict_test = clf.predict(X_test)\n",
    "\n",
    "# Accuracy tables.\n",
    "table_train = pd.crosstab(y_train, predict_train, margins=True)\n",
    "table_test = pd.crosstab(y_test, predict_test, margins=True)\n",
    "\n",
    "train_tI_errors = table_train.loc[0.0,1.0] / table_train.loc['All','All']\n",
    "train_tII_errors = table_train.loc[1.0,0.0] / table_train.loc['All','All']\n",
    "\n",
    "test_tI_errors = table_test.loc[0.0,1.0]/table_test.loc['All','All']\n",
    "test_tII_errors = table_test.loc[1.0,0.0]/table_test.loc['All','All']\n",
    "\n",
    "print((\n",
    "    'Training set accuracy:\\n'\n",
    "    'Percent Type I errors: {}\\n'\n",
    "    'Percent Type II errors: {}\\n\\n'\n",
    "    'Test set accuracy:\\n'\n",
    "    'Percent Type I errors: {}\\n'\n",
    "    'Percent Type II errors: {}'\n",
    ").format(train_tI_errors, train_tII_errors, test_tI_errors, test_tII_errors))"
   ]
  },
  {
   "cell_type": "code",
   "execution_count": 4,
   "metadata": {},
   "outputs": [
    {
     "data": {
      "image/png": "[encoded data removed]",
      "text/plain": [
       "<Figure size 432x288 with 1 Axes>"
      ]
     },
     "metadata": {
      "needs_background": "light"
     },
     "output_type": "display_data"
    }
   ],
   "source": [
    "feature_importance = clf.feature_importances_\n",
    "\n",
    "# Make importances relative to max importance.\n",
    "feature_importance = 100.0 * (feature_importance / feature_importance.max())\n",
    "sorted_idx = np.argsort(feature_importance)\n",
    "pos = np.arange(sorted_idx.shape[0]) + .5\n",
    "plt.subplot(1, 2, 2)\n",
    "plt.barh(pos, feature_importance[sorted_idx], align='center')\n",
    "plt.yticks(pos, X.columns[sorted_idx])\n",
    "plt.xlabel('Relative Importance')\n",
    "plt.title('Variable Importance')\n",
    "plt.show()"
   ]
  },
  {
   "cell_type": "markdown",
   "metadata": {},
   "source": [
    "### DRILL: Improve this gradient boost model\n",
    "\n",
    "While this model is already doing alright, we've seen from the Type I and Type II error rates that there is definitely room for improvement.  Your task is to see how low you can get the error rates to go in the test set, based on your model in the training set.  Strategies you might use include:\n",
    "\n",
    "* Creating new features\n",
    "* Applying more overfitting-prevention strategies like subsampling\n",
    "* More iterations\n",
    "* Trying a different loss function\n",
    "* Changing the structure of the weak learner: Allowing more leaves in the tree, or other modifications\n",
    "\n",
    "Have fun!"
   ]
  },
  {
   "cell_type": "markdown",
   "metadata": {},
   "source": [
    "### Solution"
   ]
  },
  {
   "cell_type": "code",
   "execution_count": 5,
   "metadata": {},
   "outputs": [
    {
     "data": {
      "text/html": [
       "<div>\n",
       "<style scoped>\n",
       "    .dataframe tbody tr th:only-of-type {\n",
       "        vertical-align: middle;\n",
       "    }\n",
       "\n",
       "    .dataframe tbody tr th {\n",
       "        vertical-align: top;\n",
       "    }\n",
       "\n",
       "    .dataframe thead th {\n",
       "        text-align: right;\n",
       "    }\n",
       "</style>\n",
       "<table border=\"1\" class=\"dataframe\">\n",
       "  <thead>\n",
       "    <tr style=\"text-align: right;\">\n",
       "      <th></th>\n",
       "      <th>year</th>\n",
       "      <th>tvtot</th>\n",
       "      <th>ppltrst</th>\n",
       "      <th>pplfair</th>\n",
       "      <th>pplhlp</th>\n",
       "      <th>happy</th>\n",
       "      <th>sclmeet</th>\n",
       "      <th>sclact</th>\n",
       "      <th>gndr</th>\n",
       "      <th>agea</th>\n",
       "      <th>CH</th>\n",
       "      <th>CZ</th>\n",
       "      <th>DE</th>\n",
       "      <th>ES</th>\n",
       "      <th>NO</th>\n",
       "      <th>SE</th>\n",
       "    </tr>\n",
       "  </thead>\n",
       "  <tbody>\n",
       "    <tr>\n",
       "      <th>0</th>\n",
       "      <td>6</td>\n",
       "      <td>3.0</td>\n",
       "      <td>3.0</td>\n",
       "      <td>10.0</td>\n",
       "      <td>5.0</td>\n",
       "      <td>8.0</td>\n",
       "      <td>5.0</td>\n",
       "      <td>4.0</td>\n",
       "      <td>2.0</td>\n",
       "      <td>60.0</td>\n",
       "      <td>1</td>\n",
       "      <td>0</td>\n",
       "      <td>0</td>\n",
       "      <td>0</td>\n",
       "      <td>0</td>\n",
       "      <td>0</td>\n",
       "    </tr>\n",
       "    <tr>\n",
       "      <th>1</th>\n",
       "      <td>6</td>\n",
       "      <td>6.0</td>\n",
       "      <td>5.0</td>\n",
       "      <td>7.0</td>\n",
       "      <td>5.0</td>\n",
       "      <td>9.0</td>\n",
       "      <td>3.0</td>\n",
       "      <td>2.0</td>\n",
       "      <td>2.0</td>\n",
       "      <td>59.0</td>\n",
       "      <td>1</td>\n",
       "      <td>0</td>\n",
       "      <td>0</td>\n",
       "      <td>0</td>\n",
       "      <td>0</td>\n",
       "      <td>0</td>\n",
       "    </tr>\n",
       "    <tr>\n",
       "      <th>2</th>\n",
       "      <td>6</td>\n",
       "      <td>1.0</td>\n",
       "      <td>8.0</td>\n",
       "      <td>8.0</td>\n",
       "      <td>8.0</td>\n",
       "      <td>7.0</td>\n",
       "      <td>6.0</td>\n",
       "      <td>3.0</td>\n",
       "      <td>1.0</td>\n",
       "      <td>24.0</td>\n",
       "      <td>1</td>\n",
       "      <td>0</td>\n",
       "      <td>0</td>\n",
       "      <td>0</td>\n",
       "      <td>0</td>\n",
       "      <td>0</td>\n",
       "    </tr>\n",
       "    <tr>\n",
       "      <th>3</th>\n",
       "      <td>6</td>\n",
       "      <td>4.0</td>\n",
       "      <td>6.0</td>\n",
       "      <td>6.0</td>\n",
       "      <td>7.0</td>\n",
       "      <td>10.0</td>\n",
       "      <td>6.0</td>\n",
       "      <td>2.0</td>\n",
       "      <td>2.0</td>\n",
       "      <td>64.0</td>\n",
       "      <td>1</td>\n",
       "      <td>0</td>\n",
       "      <td>0</td>\n",
       "      <td>0</td>\n",
       "      <td>0</td>\n",
       "      <td>0</td>\n",
       "    </tr>\n",
       "    <tr>\n",
       "      <th>4</th>\n",
       "      <td>6</td>\n",
       "      <td>5.0</td>\n",
       "      <td>6.0</td>\n",
       "      <td>7.0</td>\n",
       "      <td>5.0</td>\n",
       "      <td>8.0</td>\n",
       "      <td>7.0</td>\n",
       "      <td>2.0</td>\n",
       "      <td>2.0</td>\n",
       "      <td>55.0</td>\n",
       "      <td>1</td>\n",
       "      <td>0</td>\n",
       "      <td>0</td>\n",
       "      <td>0</td>\n",
       "      <td>0</td>\n",
       "      <td>0</td>\n",
       "    </tr>\n",
       "  </tbody>\n",
       "</table>\n",
       "</div>"
      ],
      "text/plain": [
       "   year  tvtot  ppltrst  pplfair  pplhlp  happy  sclmeet  sclact  gndr  agea  \\\n",
       "0     6    3.0      3.0     10.0     5.0    8.0      5.0     4.0   2.0  60.0   \n",
       "1     6    6.0      5.0      7.0     5.0    9.0      3.0     2.0   2.0  59.0   \n",
       "2     6    1.0      8.0      8.0     8.0    7.0      6.0     3.0   1.0  24.0   \n",
       "3     6    4.0      6.0      6.0     7.0   10.0      6.0     2.0   2.0  64.0   \n",
       "4     6    5.0      6.0      7.0     5.0    8.0      7.0     2.0   2.0  55.0   \n",
       "\n",
       "   CH  CZ  DE  ES  NO  SE  \n",
       "0   1   0   0   0   0   0  \n",
       "1   1   0   0   0   0   0  \n",
       "2   1   0   0   0   0   0  \n",
       "3   1   0   0   0   0   0  \n",
       "4   1   0   0   0   0   0  "
      ]
     },
     "execution_count": 5,
     "metadata": {},
     "output_type": "execute_result"
    }
   ],
   "source": [
    "X.head()"
   ]
  },
  {
   "cell_type": "code",
   "execution_count": 6,
   "metadata": {},
   "outputs": [
    {
     "data": {
      "text/html": [
       "<div>\n",
       "<style scoped>\n",
       "    .dataframe tbody tr th:only-of-type {\n",
       "        vertical-align: middle;\n",
       "    }\n",
       "\n",
       "    .dataframe tbody tr th {\n",
       "        vertical-align: top;\n",
       "    }\n",
       "\n",
       "    .dataframe thead th {\n",
       "        text-align: right;\n",
       "    }\n",
       "</style>\n",
       "<table border=\"1\" class=\"dataframe\">\n",
       "  <thead>\n",
       "    <tr style=\"text-align: right;\">\n",
       "      <th></th>\n",
       "      <th>year</th>\n",
       "      <th>tvtot</th>\n",
       "      <th>ppltrst</th>\n",
       "      <th>pplfair</th>\n",
       "      <th>pplhlp</th>\n",
       "      <th>happy</th>\n",
       "      <th>sclmeet</th>\n",
       "      <th>sclact</th>\n",
       "      <th>gndr</th>\n",
       "      <th>agea</th>\n",
       "      <th>CH</th>\n",
       "      <th>CZ</th>\n",
       "      <th>DE</th>\n",
       "      <th>ES</th>\n",
       "      <th>NO</th>\n",
       "      <th>SE</th>\n",
       "    </tr>\n",
       "  </thead>\n",
       "  <tbody>\n",
       "    <tr>\n",
       "      <th>year</th>\n",
       "      <td>1.000000</td>\n",
       "      <td>-0.031596</td>\n",
       "      <td>-0.001600</td>\n",
       "      <td>0.004283</td>\n",
       "      <td>-0.032901</td>\n",
       "      <td>-0.013378</td>\n",
       "      <td>-0.028502</td>\n",
       "      <td>0.012150</td>\n",
       "      <td>0.001355</td>\n",
       "      <td>-0.003520</td>\n",
       "      <td>0.003218</td>\n",
       "      <td>0.001472</td>\n",
       "      <td>0.002100</td>\n",
       "      <td>-0.006935</td>\n",
       "      <td>0.001012</td>\n",
       "      <td>0.002085</td>\n",
       "    </tr>\n",
       "    <tr>\n",
       "      <th>tvtot</th>\n",
       "      <td>-0.031596</td>\n",
       "      <td>1.000000</td>\n",
       "      <td>-0.142422</td>\n",
       "      <td>-0.119277</td>\n",
       "      <td>-0.069080</td>\n",
       "      <td>-0.118598</td>\n",
       "      <td>-0.078864</td>\n",
       "      <td>-0.092375</td>\n",
       "      <td>0.017922</td>\n",
       "      <td>0.257674</td>\n",
       "      <td>-0.173825</td>\n",
       "      <td>0.218606</td>\n",
       "      <td>0.004144</td>\n",
       "      <td>0.035985</td>\n",
       "      <td>-0.017619</td>\n",
       "      <td>-0.050075</td>\n",
       "    </tr>\n",
       "    <tr>\n",
       "      <th>ppltrst</th>\n",
       "      <td>-0.001600</td>\n",
       "      <td>-0.142422</td>\n",
       "      <td>1.000000</td>\n",
       "      <td>0.597506</td>\n",
       "      <td>0.459250</td>\n",
       "      <td>0.231533</td>\n",
       "      <td>0.122555</td>\n",
       "      <td>0.137491</td>\n",
       "      <td>-0.029921</td>\n",
       "      <td>-0.029412</td>\n",
       "      <td>0.031936</td>\n",
       "      <td>-0.225021</td>\n",
       "      <td>-0.009180</td>\n",
       "      <td>-0.152500</td>\n",
       "      <td>0.217530</td>\n",
       "      <td>0.132684</td>\n",
       "    </tr>\n",
       "    <tr>\n",
       "      <th>pplfair</th>\n",
       "      <td>0.004283</td>\n",
       "      <td>-0.119277</td>\n",
       "      <td>0.597506</td>\n",
       "      <td>1.000000</td>\n",
       "      <td>0.480931</td>\n",
       "      <td>0.247755</td>\n",
       "      <td>0.096501</td>\n",
       "      <td>0.128808</td>\n",
       "      <td>0.022251</td>\n",
       "      <td>0.014724</td>\n",
       "      <td>0.058250</td>\n",
       "      <td>-0.215494</td>\n",
       "      <td>0.005904</td>\n",
       "      <td>-0.188744</td>\n",
       "      <td>0.191488</td>\n",
       "      <td>0.161542</td>\n",
       "    </tr>\n",
       "    <tr>\n",
       "      <th>pplhlp</th>\n",
       "      <td>-0.032901</td>\n",
       "      <td>-0.069080</td>\n",
       "      <td>0.459250</td>\n",
       "      <td>0.480931</td>\n",
       "      <td>1.000000</td>\n",
       "      <td>0.215323</td>\n",
       "      <td>0.080489</td>\n",
       "      <td>0.092673</td>\n",
       "      <td>0.042046</td>\n",
       "      <td>0.040351</td>\n",
       "      <td>0.079003</td>\n",
       "      <td>-0.166372</td>\n",
       "      <td>0.003274</td>\n",
       "      <td>-0.223920</td>\n",
       "      <td>0.153183</td>\n",
       "      <td>0.173921</td>\n",
       "    </tr>\n",
       "    <tr>\n",
       "      <th>happy</th>\n",
       "      <td>-0.013378</td>\n",
       "      <td>-0.118598</td>\n",
       "      <td>0.231533</td>\n",
       "      <td>0.247755</td>\n",
       "      <td>0.215323</td>\n",
       "      <td>1.000000</td>\n",
       "      <td>0.182944</td>\n",
       "      <td>0.192030</td>\n",
       "      <td>-0.022413</td>\n",
       "      <td>-0.042970</td>\n",
       "      <td>0.110593</td>\n",
       "      <td>-0.206445</td>\n",
       "      <td>-0.003884</td>\n",
       "      <td>-0.074060</td>\n",
       "      <td>0.100777</td>\n",
       "      <td>0.063745</td>\n",
       "    </tr>\n",
       "    <tr>\n",
       "      <th>sclmeet</th>\n",
       "      <td>-0.028502</td>\n",
       "      <td>-0.078864</td>\n",
       "      <td>0.122555</td>\n",
       "      <td>0.096501</td>\n",
       "      <td>0.080489</td>\n",
       "      <td>0.182944</td>\n",
       "      <td>1.000000</td>\n",
       "      <td>0.283319</td>\n",
       "      <td>0.009533</td>\n",
       "      <td>-0.194443</td>\n",
       "      <td>-0.021595</td>\n",
       "      <td>-0.174738</td>\n",
       "      <td>-0.022014</td>\n",
       "      <td>0.011601</td>\n",
       "      <td>0.070484</td>\n",
       "      <td>0.097158</td>\n",
       "    </tr>\n",
       "    <tr>\n",
       "      <th>sclact</th>\n",
       "      <td>0.012150</td>\n",
       "      <td>-0.092375</td>\n",
       "      <td>0.137491</td>\n",
       "      <td>0.128808</td>\n",
       "      <td>0.092673</td>\n",
       "      <td>0.192030</td>\n",
       "      <td>0.283319</td>\n",
       "      <td>1.000000</td>\n",
       "      <td>-0.031648</td>\n",
       "      <td>-0.059442</td>\n",
       "      <td>-0.004271</td>\n",
       "      <td>-0.038131</td>\n",
       "      <td>0.003764</td>\n",
       "      <td>-0.107427</td>\n",
       "      <td>0.080589</td>\n",
       "      <td>0.080040</td>\n",
       "    </tr>\n",
       "    <tr>\n",
       "      <th>gndr</th>\n",
       "      <td>0.001355</td>\n",
       "      <td>0.017922</td>\n",
       "      <td>-0.029921</td>\n",
       "      <td>0.022251</td>\n",
       "      <td>0.042046</td>\n",
       "      <td>-0.022413</td>\n",
       "      <td>0.009533</td>\n",
       "      <td>-0.031648</td>\n",
       "      <td>1.000000</td>\n",
       "      <td>0.020598</td>\n",
       "      <td>0.013925</td>\n",
       "      <td>0.024788</td>\n",
       "      <td>0.011096</td>\n",
       "      <td>0.007807</td>\n",
       "      <td>-0.027735</td>\n",
       "      <td>-0.019075</td>\n",
       "    </tr>\n",
       "    <tr>\n",
       "      <th>agea</th>\n",
       "      <td>-0.003520</td>\n",
       "      <td>0.257674</td>\n",
       "      <td>-0.029412</td>\n",
       "      <td>0.014724</td>\n",
       "      <td>0.040351</td>\n",
       "      <td>-0.042970</td>\n",
       "      <td>-0.194443</td>\n",
       "      <td>-0.059442</td>\n",
       "      <td>0.020598</td>\n",
       "      <td>1.000000</td>\n",
       "      <td>-0.015258</td>\n",
       "      <td>-0.033002</td>\n",
       "      <td>0.030541</td>\n",
       "      <td>0.010583</td>\n",
       "      <td>-0.023270</td>\n",
       "      <td>0.048733</td>\n",
       "    </tr>\n",
       "    <tr>\n",
       "      <th>CH</th>\n",
       "      <td>0.003218</td>\n",
       "      <td>-0.173825</td>\n",
       "      <td>0.031936</td>\n",
       "      <td>0.058250</td>\n",
       "      <td>0.079003</td>\n",
       "      <td>0.110593</td>\n",
       "      <td>-0.021595</td>\n",
       "      <td>-0.004271</td>\n",
       "      <td>0.013925</td>\n",
       "      <td>-0.015258</td>\n",
       "      <td>1.000000</td>\n",
       "      <td>-0.196084</td>\n",
       "      <td>-0.027113</td>\n",
       "      <td>-0.294179</td>\n",
       "      <td>-0.216024</td>\n",
       "      <td>-0.243774</td>\n",
       "    </tr>\n",
       "    <tr>\n",
       "      <th>CZ</th>\n",
       "      <td>0.001472</td>\n",
       "      <td>0.218606</td>\n",
       "      <td>-0.225021</td>\n",
       "      <td>-0.215494</td>\n",
       "      <td>-0.166372</td>\n",
       "      <td>-0.206445</td>\n",
       "      <td>-0.174738</td>\n",
       "      <td>-0.038131</td>\n",
       "      <td>0.024788</td>\n",
       "      <td>-0.033002</td>\n",
       "      <td>-0.196084</td>\n",
       "      <td>1.000000</td>\n",
       "      <td>-0.024048</td>\n",
       "      <td>-0.260926</td>\n",
       "      <td>-0.191605</td>\n",
       "      <td>-0.216219</td>\n",
       "    </tr>\n",
       "    <tr>\n",
       "      <th>DE</th>\n",
       "      <td>0.002100</td>\n",
       "      <td>0.004144</td>\n",
       "      <td>-0.009180</td>\n",
       "      <td>0.005904</td>\n",
       "      <td>0.003274</td>\n",
       "      <td>-0.003884</td>\n",
       "      <td>-0.022014</td>\n",
       "      <td>0.003764</td>\n",
       "      <td>0.011096</td>\n",
       "      <td>0.030541</td>\n",
       "      <td>-0.027113</td>\n",
       "      <td>-0.024048</td>\n",
       "      <td>1.000000</td>\n",
       "      <td>-0.036078</td>\n",
       "      <td>-0.026493</td>\n",
       "      <td>-0.029897</td>\n",
       "    </tr>\n",
       "    <tr>\n",
       "      <th>ES</th>\n",
       "      <td>-0.006935</td>\n",
       "      <td>0.035985</td>\n",
       "      <td>-0.152500</td>\n",
       "      <td>-0.188744</td>\n",
       "      <td>-0.223920</td>\n",
       "      <td>-0.074060</td>\n",
       "      <td>0.011601</td>\n",
       "      <td>-0.107427</td>\n",
       "      <td>0.007807</td>\n",
       "      <td>0.010583</td>\n",
       "      <td>-0.294179</td>\n",
       "      <td>-0.260926</td>\n",
       "      <td>-0.036078</td>\n",
       "      <td>1.000000</td>\n",
       "      <td>-0.287460</td>\n",
       "      <td>-0.324387</td>\n",
       "    </tr>\n",
       "    <tr>\n",
       "      <th>NO</th>\n",
       "      <td>0.001012</td>\n",
       "      <td>-0.017619</td>\n",
       "      <td>0.217530</td>\n",
       "      <td>0.191488</td>\n",
       "      <td>0.153183</td>\n",
       "      <td>0.100777</td>\n",
       "      <td>0.070484</td>\n",
       "      <td>0.080589</td>\n",
       "      <td>-0.027735</td>\n",
       "      <td>-0.023270</td>\n",
       "      <td>-0.216024</td>\n",
       "      <td>-0.191605</td>\n",
       "      <td>-0.026493</td>\n",
       "      <td>-0.287460</td>\n",
       "      <td>1.000000</td>\n",
       "      <td>-0.238206</td>\n",
       "    </tr>\n",
       "    <tr>\n",
       "      <th>SE</th>\n",
       "      <td>0.002085</td>\n",
       "      <td>-0.050075</td>\n",
       "      <td>0.132684</td>\n",
       "      <td>0.161542</td>\n",
       "      <td>0.173921</td>\n",
       "      <td>0.063745</td>\n",
       "      <td>0.097158</td>\n",
       "      <td>0.080040</td>\n",
       "      <td>-0.019075</td>\n",
       "      <td>0.048733</td>\n",
       "      <td>-0.243774</td>\n",
       "      <td>-0.216219</td>\n",
       "      <td>-0.029897</td>\n",
       "      <td>-0.324387</td>\n",
       "      <td>-0.238206</td>\n",
       "      <td>1.000000</td>\n",
       "    </tr>\n",
       "  </tbody>\n",
       "</table>\n",
       "</div>"
      ],
      "text/plain": [
       "             year     tvtot   ppltrst   pplfair    pplhlp     happy   sclmeet  \\\n",
       "year     1.000000 -0.031596 -0.001600  0.004283 -0.032901 -0.013378 -0.028502   \n",
       "tvtot   -0.031596  1.000000 -0.142422 -0.119277 -0.069080 -0.118598 -0.078864   \n",
       "ppltrst -0.001600 -0.142422  1.000000  0.597506  0.459250  0.231533  0.122555   \n",
       "pplfair  0.004283 -0.119277  0.597506  1.000000  0.480931  0.247755  0.096501   \n",
       "pplhlp  -0.032901 -0.069080  0.459250  0.480931  1.000000  0.215323  0.080489   \n",
       "happy   -0.013378 -0.118598  0.231533  0.247755  0.215323  1.000000  0.182944   \n",
       "sclmeet -0.028502 -0.078864  0.122555  0.096501  0.080489  0.182944  1.000000   \n",
       "sclact   0.012150 -0.092375  0.137491  0.128808  0.092673  0.192030  0.283319   \n",
       "gndr     0.001355  0.017922 -0.029921  0.022251  0.042046 -0.022413  0.009533   \n",
       "agea    -0.003520  0.257674 -0.029412  0.014724  0.040351 -0.042970 -0.194443   \n",
       "CH       0.003218 -0.173825  0.031936  0.058250  0.079003  0.110593 -0.021595   \n",
       "CZ       0.001472  0.218606 -0.225021 -0.215494 -0.166372 -0.206445 -0.174738   \n",
       "DE       0.002100  0.004144 -0.009180  0.005904  0.003274 -0.003884 -0.022014   \n",
       "ES      -0.006935  0.035985 -0.152500 -0.188744 -0.223920 -0.074060  0.011601   \n",
       "NO       0.001012 -0.017619  0.217530  0.191488  0.153183  0.100777  0.070484   \n",
       "SE       0.002085 -0.050075  0.132684  0.161542  0.173921  0.063745  0.097158   \n",
       "\n",
       "           sclact      gndr      agea        CH        CZ        DE        ES  \\\n",
       "year     0.012150  0.001355 -0.003520  0.003218  0.001472  0.002100 -0.006935   \n",
       "tvtot   -0.092375  0.017922  0.257674 -0.173825  0.218606  0.004144  0.035985   \n",
       "ppltrst  0.137491 -0.029921 -0.029412  0.031936 -0.225021 -0.009180 -0.152500   \n",
       "pplfair  0.128808  0.022251  0.014724  0.058250 -0.215494  0.005904 -0.188744   \n",
       "pplhlp   0.092673  0.042046  0.040351  0.079003 -0.166372  0.003274 -0.223920   \n",
       "happy    0.192030 -0.022413 -0.042970  0.110593 -0.206445 -0.003884 -0.074060   \n",
       "sclmeet  0.283319  0.009533 -0.194443 -0.021595 -0.174738 -0.022014  0.011601   \n",
       "sclact   1.000000 -0.031648 -0.059442 -0.004271 -0.038131  0.003764 -0.107427   \n",
       "gndr    -0.031648  1.000000  0.020598  0.013925  0.024788  0.011096  0.007807   \n",
       "agea    -0.059442  0.020598  1.000000 -0.015258 -0.033002  0.030541  0.010583   \n",
       "CH      -0.004271  0.013925 -0.015258  1.000000 -0.196084 -0.027113 -0.294179   \n",
       "CZ      -0.038131  0.024788 -0.033002 -0.196084  1.000000 -0.024048 -0.260926   \n",
       "DE       0.003764  0.011096  0.030541 -0.027113 -0.024048  1.000000 -0.036078   \n",
       "ES      -0.107427  0.007807  0.010583 -0.294179 -0.260926 -0.036078  1.000000   \n",
       "NO       0.080589 -0.027735 -0.023270 -0.216024 -0.191605 -0.026493 -0.287460   \n",
       "SE       0.080040 -0.019075  0.048733 -0.243774 -0.216219 -0.029897 -0.324387   \n",
       "\n",
       "               NO        SE  \n",
       "year     0.001012  0.002085  \n",
       "tvtot   -0.017619 -0.050075  \n",
       "ppltrst  0.217530  0.132684  \n",
       "pplfair  0.191488  0.161542  \n",
       "pplhlp   0.153183  0.173921  \n",
       "happy    0.100777  0.063745  \n",
       "sclmeet  0.070484  0.097158  \n",
       "sclact   0.080589  0.080040  \n",
       "gndr    -0.027735 -0.019075  \n",
       "agea    -0.023270  0.048733  \n",
       "CH      -0.216024 -0.243774  \n",
       "CZ      -0.191605 -0.216219  \n",
       "DE      -0.026493 -0.029897  \n",
       "ES      -0.287460 -0.324387  \n",
       "NO       1.000000 -0.238206  \n",
       "SE      -0.238206  1.000000  "
      ]
     },
     "execution_count": 6,
     "metadata": {},
     "output_type": "execute_result"
    }
   ],
   "source": [
    "X.corr()"
   ]
  },
  {
   "cell_type": "code",
   "execution_count": 7,
   "metadata": {},
   "outputs": [
    {
     "name": "stdout",
     "output_type": "stream",
     "text": [
      "<class 'pandas.core.frame.DataFrame'>\n",
      "Int64Index: 8147 entries, 0 to 8593\n",
      "Data columns (total 13 columns):\n",
      "cntry      8147 non-null object\n",
      "idno       8147 non-null float64\n",
      "year       8147 non-null int64\n",
      "tvtot      8147 non-null float64\n",
      "ppltrst    8147 non-null float64\n",
      "pplfair    8147 non-null float64\n",
      "pplhlp     8147 non-null float64\n",
      "happy      8147 non-null float64\n",
      "sclmeet    8147 non-null float64\n",
      "sclact     8147 non-null float64\n",
      "gndr       8147 non-null float64\n",
      "agea       8147 non-null float64\n",
      "partner    8147 non-null float64\n",
      "dtypes: float64(11), int64(1), object(1)\n",
      "memory usage: 891.1+ KB\n"
     ]
    }
   ],
   "source": [
    "df.info()"
   ]
  },
  {
   "cell_type": "code",
   "execution_count": 8,
   "metadata": {},
   "outputs": [
    {
     "data": {
      "text/plain": [
       "<matplotlib.axes._subplots.AxesSubplot at 0x1cdf7bdd588>"
      ]
     },
     "execution_count": 8,
     "metadata": {},
     "output_type": "execute_result"
    },
    {
     "data": {
      "image/png": "[encoded data removed]",
      "text/plain": [
       "<Figure size 432x288 with 1 Axes>"
      ]
     },
     "metadata": {
      "needs_background": "light"
     },
     "output_type": "display_data"
    }
   ],
   "source": [
    "import seaborn as sns\n",
    "\n",
    "countries = list(df['cntry'].unique())\n",
    "\n",
    "sns.barplot(x=countries, y=df.groupby('cntry')['partner'].mean())\n"
   ]
  },
  {
   "cell_type": "code",
   "execution_count": 9,
   "metadata": {},
   "outputs": [
    {
     "data": {
      "text/plain": [
       "<matplotlib.axes._subplots.AxesSubplot at 0x1cdf7c74c88>"
      ]
     },
     "execution_count": 9,
     "metadata": {},
     "output_type": "execute_result"
    },
    {
     "data": {
      "image/png": "[encoded data removed]",
      "text/plain": [
       "<Figure size 432x288 with 1 Axes>"
      ]
     },
     "metadata": {
      "needs_background": "light"
     },
     "output_type": "display_data"
    }
   ],
   "source": [
    "years = list(df['year'].unique())\n",
    "\n",
    "sns.barplot(x=years, y=df.groupby('year')['partner'].mean())"
   ]
  },
  {
   "cell_type": "markdown",
   "metadata": {},
   "source": [
    "This confirms we can drop country, and year with little information loss."
   ]
  },
  {
   "cell_type": "code",
   "execution_count": 10,
   "metadata": {},
   "outputs": [],
   "source": [
    "df = pd.read_csv((\n",
    "    \"https://raw.githubusercontent.com/Thinkful-Ed/data-201-resources/\"\n",
    "    \"master/ESS_practice_data/ESSdata_Thinkful.csv\")).dropna()\n",
    "\n",
    "# Definine outcome and predictors.\n",
    "# Set our outcome to 0 and 1.\n",
    "y = df['partner'] - 1\n",
    "X = df.loc[:, ~df.columns.isin(['partner', 'idno'])]\n",
    "\n",
    "# Make the categorical variable 'country' into dummies.\n",
    "X = X.drop('cntry', axis=1)\n",
    "X = X.drop('year', axis=1)\n",
    "\n",
    "\n",
    "# Create training and test sets.\n",
    "offset = int(X.shape[0] * 0.9)\n",
    "\n",
    "# Put 90% of the data in the training set.\n",
    "X_train, y_train = X[:offset], y[:offset]\n",
    "\n",
    "# And put 10% in the test set.\n",
    "X_test, y_test = X[offset:], y[offset:]"
   ]
  },
  {
   "cell_type": "code",
   "execution_count": 11,
   "metadata": {},
   "outputs": [
    {
     "name": "stdout",
     "output_type": "stream",
     "text": [
      "Training set accuracy:\n",
      "Percent Type I errors: 0.046644844517184945\n",
      "Percent Type II errors: 0.17689579923622475\n",
      "\n",
      "Test set accuracy:\n",
      "Percent Type I errors: 0.06012269938650307\n",
      "Percent Type II errors: 0.19386503067484662\n"
     ]
    }
   ],
   "source": [
    "# We'll make 500 iterations, use 2-deep trees, and set our loss function.\n",
    "params = {'n_estimators': 500,\n",
    "          'max_depth': 2,\n",
    "          'loss': 'deviance'}\n",
    "\n",
    "# Initialize and fit the model.\n",
    "clf = ensemble.GradientBoostingClassifier(**params)\n",
    "clf.fit(X_train, y_train)\n",
    "\n",
    "predict_train = clf.predict(X_train)\n",
    "predict_test = clf.predict(X_test)\n",
    "\n",
    "# Accuracy tables.\n",
    "table_train = pd.crosstab(y_train, predict_train, margins=True)\n",
    "table_test = pd.crosstab(y_test, predict_test, margins=True)\n",
    "\n",
    "train_tI_errors = table_train.loc[0.0,1.0] / table_train.loc['All','All']\n",
    "train_tII_errors = table_train.loc[1.0,0.0] / table_train.loc['All','All']\n",
    "\n",
    "test_tI_errors = table_test.loc[0.0,1.0]/table_test.loc['All','All']\n",
    "test_tII_errors = table_test.loc[1.0,0.0]/table_test.loc['All','All']\n",
    "\n",
    "print((\n",
    "    'Training set accuracy:\\n'\n",
    "    'Percent Type I errors: {}\\n'\n",
    "    'Percent Type II errors: {}\\n\\n'\n",
    "    'Test set accuracy:\\n'\n",
    "    'Percent Type I errors: {}\\n'\n",
    "    'Percent Type II errors: {}'\n",
    ").format(train_tI_errors, train_tII_errors, test_tI_errors, test_tII_errors))"
   ]
  },
  {
   "cell_type": "code",
   "execution_count": 12,
   "metadata": {},
   "outputs": [
    {
     "data": {
      "image/png": "[encoded data removed]",
      "text/plain": [
       "<Figure size 432x288 with 1 Axes>"
      ]
     },
     "metadata": {
      "needs_background": "light"
     },
     "output_type": "display_data"
    }
   ],
   "source": [
    "feature_importance = clf.feature_importances_\n",
    "\n",
    "# Make importances relative to max importance.\n",
    "feature_importance = 100.0 * (feature_importance / feature_importance.max())\n",
    "sorted_idx = np.argsort(feature_importance)\n",
    "pos = np.arange(sorted_idx.shape[0]) + .5\n",
    "plt.subplot(1, 2, 2)\n",
    "plt.barh(pos, feature_importance[sorted_idx], align='center')\n",
    "plt.yticks(pos, X.columns[sorted_idx])\n",
    "plt.xlabel('Relative Importance')\n",
    "plt.title('Variable Importance')\n",
    "plt.show()"
   ]
  },
  {
   "cell_type": "markdown",
   "metadata": {},
   "source": [
    "Errors are essentially the same, but we reduced the amount of features to obtain the same results."
   ]
  },
  {
   "cell_type": "code",
   "execution_count": 13,
   "metadata": {},
   "outputs": [
    {
     "data": {
      "text/plain": [
       "<matplotlib.axes._subplots.AxesSubplot at 0x1cdf7cfdd68>"
      ]
     },
     "execution_count": 13,
     "metadata": {},
     "output_type": "execute_result"
    },
    {
     "data": {
      "image/png": "[encoded data removed]",
      "text/plain": [
       "<Figure size 432x288 with 1 Axes>"
      ]
     },
     "metadata": {
      "needs_background": "light"
     },
     "output_type": "display_data"
    }
   ],
   "source": [
    "sns.barplot(x='happy', y='agea', hue='gndr', data=df)"
   ]
  },
  {
   "cell_type": "code",
   "execution_count": 14,
   "metadata": {},
   "outputs": [],
   "source": [
    "#Add new feature for people who are sad\n",
    "def is_sad(x):\n",
    "    if x <= 3:\n",
    "        return 1\n",
    "    else:\n",
    "        return 0\n",
    "\n",
    "df['is_sad'] = df['happy'].apply(is_sad)"
   ]
  },
  {
   "cell_type": "code",
   "execution_count": 15,
   "metadata": {},
   "outputs": [
    {
     "data": {
      "text/html": [
       "<div>\n",
       "<style scoped>\n",
       "    .dataframe tbody tr th:only-of-type {\n",
       "        vertical-align: middle;\n",
       "    }\n",
       "\n",
       "    .dataframe tbody tr th {\n",
       "        vertical-align: top;\n",
       "    }\n",
       "\n",
       "    .dataframe thead th {\n",
       "        text-align: right;\n",
       "    }\n",
       "</style>\n",
       "<table border=\"1\" class=\"dataframe\">\n",
       "  <thead>\n",
       "    <tr style=\"text-align: right;\">\n",
       "      <th></th>\n",
       "      <th>cntry</th>\n",
       "      <th>idno</th>\n",
       "      <th>year</th>\n",
       "      <th>tvtot</th>\n",
       "      <th>ppltrst</th>\n",
       "      <th>pplfair</th>\n",
       "      <th>pplhlp</th>\n",
       "      <th>happy</th>\n",
       "      <th>sclmeet</th>\n",
       "      <th>sclact</th>\n",
       "      <th>gndr</th>\n",
       "      <th>agea</th>\n",
       "      <th>partner</th>\n",
       "      <th>is_sad</th>\n",
       "    </tr>\n",
       "  </thead>\n",
       "  <tbody>\n",
       "    <tr>\n",
       "      <th>0</th>\n",
       "      <td>CH</td>\n",
       "      <td>5.0</td>\n",
       "      <td>6</td>\n",
       "      <td>3.0</td>\n",
       "      <td>3.0</td>\n",
       "      <td>10.0</td>\n",
       "      <td>5.0</td>\n",
       "      <td>8.0</td>\n",
       "      <td>5.0</td>\n",
       "      <td>4.0</td>\n",
       "      <td>2.0</td>\n",
       "      <td>60.0</td>\n",
       "      <td>1.0</td>\n",
       "      <td>0</td>\n",
       "    </tr>\n",
       "    <tr>\n",
       "      <th>1</th>\n",
       "      <td>CH</td>\n",
       "      <td>25.0</td>\n",
       "      <td>6</td>\n",
       "      <td>6.0</td>\n",
       "      <td>5.0</td>\n",
       "      <td>7.0</td>\n",
       "      <td>5.0</td>\n",
       "      <td>9.0</td>\n",
       "      <td>3.0</td>\n",
       "      <td>2.0</td>\n",
       "      <td>2.0</td>\n",
       "      <td>59.0</td>\n",
       "      <td>1.0</td>\n",
       "      <td>0</td>\n",
       "    </tr>\n",
       "    <tr>\n",
       "      <th>2</th>\n",
       "      <td>CH</td>\n",
       "      <td>26.0</td>\n",
       "      <td>6</td>\n",
       "      <td>1.0</td>\n",
       "      <td>8.0</td>\n",
       "      <td>8.0</td>\n",
       "      <td>8.0</td>\n",
       "      <td>7.0</td>\n",
       "      <td>6.0</td>\n",
       "      <td>3.0</td>\n",
       "      <td>1.0</td>\n",
       "      <td>24.0</td>\n",
       "      <td>2.0</td>\n",
       "      <td>0</td>\n",
       "    </tr>\n",
       "    <tr>\n",
       "      <th>3</th>\n",
       "      <td>CH</td>\n",
       "      <td>28.0</td>\n",
       "      <td>6</td>\n",
       "      <td>4.0</td>\n",
       "      <td>6.0</td>\n",
       "      <td>6.0</td>\n",
       "      <td>7.0</td>\n",
       "      <td>10.0</td>\n",
       "      <td>6.0</td>\n",
       "      <td>2.0</td>\n",
       "      <td>2.0</td>\n",
       "      <td>64.0</td>\n",
       "      <td>1.0</td>\n",
       "      <td>0</td>\n",
       "    </tr>\n",
       "    <tr>\n",
       "      <th>4</th>\n",
       "      <td>CH</td>\n",
       "      <td>29.0</td>\n",
       "      <td>6</td>\n",
       "      <td>5.0</td>\n",
       "      <td>6.0</td>\n",
       "      <td>7.0</td>\n",
       "      <td>5.0</td>\n",
       "      <td>8.0</td>\n",
       "      <td>7.0</td>\n",
       "      <td>2.0</td>\n",
       "      <td>2.0</td>\n",
       "      <td>55.0</td>\n",
       "      <td>1.0</td>\n",
       "      <td>0</td>\n",
       "    </tr>\n",
       "  </tbody>\n",
       "</table>\n",
       "</div>"
      ],
      "text/plain": [
       "  cntry  idno  year  tvtot  ppltrst  pplfair  pplhlp  happy  sclmeet  sclact  \\\n",
       "0    CH   5.0     6    3.0      3.0     10.0     5.0    8.0      5.0     4.0   \n",
       "1    CH  25.0     6    6.0      5.0      7.0     5.0    9.0      3.0     2.0   \n",
       "2    CH  26.0     6    1.0      8.0      8.0     8.0    7.0      6.0     3.0   \n",
       "3    CH  28.0     6    4.0      6.0      6.0     7.0   10.0      6.0     2.0   \n",
       "4    CH  29.0     6    5.0      6.0      7.0     5.0    8.0      7.0     2.0   \n",
       "\n",
       "   gndr  agea  partner  is_sad  \n",
       "0   2.0  60.0      1.0       0  \n",
       "1   2.0  59.0      1.0       0  \n",
       "2   1.0  24.0      2.0       0  \n",
       "3   2.0  64.0      1.0       0  \n",
       "4   2.0  55.0      1.0       0  "
      ]
     },
     "execution_count": 15,
     "metadata": {},
     "output_type": "execute_result"
    }
   ],
   "source": [
    "df.head()"
   ]
  },
  {
   "cell_type": "code",
   "execution_count": 16,
   "metadata": {},
   "outputs": [],
   "source": [
    "# Definine outcome and predictors.\n",
    "# Set our outcome to 0 and 1.\n",
    "y = df['partner'] - 1\n",
    "X = df.loc[:, ~df.columns.isin(['partner', 'idno'])]\n",
    "\n",
    "# Make the categorical variable 'country' into dummies.\n",
    "X = X.drop('cntry', axis=1)\n",
    "X = X.drop('year', axis=1)\n",
    "\n",
    "\n",
    "# Create training and test sets.\n",
    "offset = int(X.shape[0] * 0.9)\n",
    "\n",
    "# Put 90% of the data in the training set.\n",
    "X_train, y_train = X[:offset], y[:offset]\n",
    "\n",
    "# And put 10% in the test set.\n",
    "X_test, y_test = X[offset:], y[offset:]"
   ]
  },
  {
   "cell_type": "code",
   "execution_count": 17,
   "metadata": {},
   "outputs": [
    {
     "name": "stdout",
     "output_type": "stream",
     "text": [
      "Training set accuracy:\n",
      "Percent Type I errors: 0.046644844517184945\n",
      "Percent Type II errors: 0.17689579923622475\n",
      "\n",
      "Test set accuracy:\n",
      "Percent Type I errors: 0.06012269938650307\n",
      "Percent Type II errors: 0.19386503067484662\n"
     ]
    }
   ],
   "source": [
    "# We'll make 500 iterations, use 2-deep trees, and set our loss function.\n",
    "params = {'n_estimators': 500,\n",
    "          'max_depth': 2,\n",
    "          'loss': 'deviance'}\n",
    "\n",
    "# Initialize and fit the model.\n",
    "clf = ensemble.GradientBoostingClassifier(**params)\n",
    "clf.fit(X_train, y_train)\n",
    "\n",
    "predict_train = clf.predict(X_train)\n",
    "predict_test = clf.predict(X_test)\n",
    "\n",
    "# Accuracy tables.\n",
    "table_train = pd.crosstab(y_train, predict_train, margins=True)\n",
    "table_test = pd.crosstab(y_test, predict_test, margins=True)\n",
    "\n",
    "train_tI_errors = table_train.loc[0.0,1.0] / table_train.loc['All','All']\n",
    "train_tII_errors = table_train.loc[1.0,0.0] / table_train.loc['All','All']\n",
    "\n",
    "test_tI_errors = table_test.loc[0.0,1.0]/table_test.loc['All','All']\n",
    "test_tII_errors = table_test.loc[1.0,0.0]/table_test.loc['All','All']\n",
    "\n",
    "print((\n",
    "    'Training set accuracy:\\n'\n",
    "    'Percent Type I errors: {}\\n'\n",
    "    'Percent Type II errors: {}\\n\\n'\n",
    "    'Test set accuracy:\\n'\n",
    "    'Percent Type I errors: {}\\n'\n",
    "    'Percent Type II errors: {}'\n",
    ").format(train_tI_errors, train_tII_errors, test_tI_errors, test_tII_errors))"
   ]
  },
  {
   "cell_type": "code",
   "execution_count": 18,
   "metadata": {},
   "outputs": [
    {
     "data": {
      "image/png": "[encoded data removed]",
      "text/plain": [
       "<Figure size 432x288 with 1 Axes>"
      ]
     },
     "metadata": {
      "needs_background": "light"
     },
     "output_type": "display_data"
    }
   ],
   "source": [
    "feature_importance = clf.feature_importances_\n",
    "\n",
    "# Make importances relative to max importance.\n",
    "feature_importance = 100.0 * (feature_importance / feature_importance.max())\n",
    "sorted_idx = np.argsort(feature_importance)\n",
    "pos = np.arange(sorted_idx.shape[0]) + .5\n",
    "plt.subplot(1, 2, 2)\n",
    "plt.barh(pos, feature_importance[sorted_idx], align='center')\n",
    "plt.yticks(pos, X.columns[sorted_idx])\n",
    "plt.xlabel('Relative Importance')\n",
    "plt.title('Variable Importance')\n",
    "plt.show()"
   ]
  },
  {
   "cell_type": "markdown",
   "metadata": {},
   "source": [
    "Adding a new feature (is_sad) did not provide useful information."
   ]
  },
  {
   "cell_type": "markdown",
   "metadata": {},
   "source": [
    "Now we will define a function that adjusts the paramaters to see if there is a more accurate set of parameters to use:"
   ]
  },
  {
   "cell_type": "code",
   "execution_count": 19,
   "metadata": {},
   "outputs": [],
   "source": [
    "#first, re-set the datafram back to the original:\n",
    "\n",
    "df = pd.read_csv((\n",
    "    \"https://raw.githubusercontent.com/Thinkful-Ed/data-201-resources/\"\n",
    "    \"master/ESS_practice_data/ESSdata_Thinkful.csv\")).dropna()"
   ]
  },
  {
   "cell_type": "code",
   "execution_count": 20,
   "metadata": {},
   "outputs": [],
   "source": [
    "y = df['partner'] - 1\n",
    "X = df.loc[:, ~df.columns.isin(['partner', 'cntry', 'idno'])]\n",
    "    \n",
    "#now we will recycle code from earlier inside a function\n",
    "\n",
    "def adjust_parameters(X, y, n_estimators, max_depth, loss):\n",
    "    offset = int(X.shape[0] * 0.9)\n",
    "    X_train, y_train = X[:offset], y[:offset]\n",
    "    X_test, y_test = X[offset:], y[offset:]\n",
    "    # Initialize and fit the model.\n",
    "    params = {'n_estimators': n_estimators,\n",
    "          'max_depth': max_depth,\n",
    "          'loss': loss}\n",
    "    clf = ensemble.GradientBoostingClassifier(**params)\n",
    "    clf.fit(X_train, y_train)\n",
    "\n",
    "    predict_train = clf.predict(X_train)\n",
    "    predict_test = clf.predict(X_test)\n",
    "\n",
    "    # Accuracy tables.\n",
    "    table_train = pd.crosstab(y_train, predict_train, margins=True)\n",
    "    table_test = pd.crosstab(y_test, predict_test, margins=True)\n",
    "\n",
    "    train_tI_errors = table_train.loc[0.0,1.0] / table_train.loc['All','All']\n",
    "    train_tII_errors = table_train.loc[1.0,0.0] / table_train.loc['All','All']\n",
    "\n",
    "    test_tI_errors = table_test.loc[0.0,1.0]/table_test.loc['All','All']\n",
    "    test_tII_errors = table_test.loc[1.0,0.0]/table_test.loc['All','All']\n",
    "\n",
    "    print((\n",
    "        'Training set accuracy:\\n'\n",
    "        'Percent Type I errors: {}\\n'\n",
    "        'Percent Type II errors: {}\\n\\n'\n",
    "        'Test set accuracy:\\n'\n",
    "        'Percent Type I errors: {}\\n'\n",
    "        'Percent Type II errors: {}'\n",
    "    ).format(train_tI_errors, train_tII_errors, test_tI_errors, test_tII_errors))"
   ]
  },
  {
   "cell_type": "code",
   "execution_count": 21,
   "metadata": {},
   "outputs": [],
   "source": [
    "#Original:\n",
    "\n",
    "# params = {'n_estimators': 500,\n",
    "#         'max_depth': 2,\n",
    "#         'loss': 'deviance'}\n",
    "\n",
    "#Training set accuracy:\n",
    "#Percent Type I errors: 0.04650845608292417\n",
    "#Percent Type II errors: 0.17607746863066012\n",
    "\n",
    "#Test set accuracy:\n",
    "#Percent Type I errors: 0.06257668711656442\n",
    "#Percent Type II errors: 0.18527607361963191"
   ]
  },
  {
   "cell_type": "markdown",
   "metadata": {},
   "source": [
    "#### Ajusting n_estimators"
   ]
  },
  {
   "cell_type": "code",
   "execution_count": 22,
   "metadata": {},
   "outputs": [
    {
     "name": "stdout",
     "output_type": "stream",
     "text": [
      "Training set accuracy:\n",
      "Percent Type I errors: 0.040098199672667756\n",
      "Percent Type II errors: 0.1972176759410802\n",
      "\n",
      "Test set accuracy:\n",
      "Percent Type I errors: 0.049079754601226995\n",
      "Percent Type II errors: 0.20613496932515338\n"
     ]
    }
   ],
   "source": [
    "adjust_parameters(X, y, 100, 2, 'deviance')"
   ]
  },
  {
   "cell_type": "markdown",
   "metadata": {},
   "source": [
    "Reduced type I errors, but increased type II."
   ]
  },
  {
   "cell_type": "code",
   "execution_count": 23,
   "metadata": {},
   "outputs": [
    {
     "name": "stdout",
     "output_type": "stream",
     "text": [
      "Training set accuracy:\n",
      "Percent Type I errors: 0.04609929078014184\n",
      "Percent Type II errors: 0.17103109656301146\n",
      "\n",
      "Test set accuracy:\n",
      "Percent Type I errors: 0.06993865030674846\n",
      "Percent Type II errors: 0.18895705521472392\n"
     ]
    }
   ],
   "source": [
    "adjust_parameters(X, y, 1000, 2, 'deviance')"
   ]
  },
  {
   "cell_type": "markdown",
   "metadata": {},
   "source": [
    "Increased both type I and type II errors."
   ]
  },
  {
   "cell_type": "markdown",
   "metadata": {},
   "source": [
    "#### Adjusting max_depth:"
   ]
  },
  {
   "cell_type": "code",
   "execution_count": 26,
   "metadata": {},
   "outputs": [
    {
     "name": "stdout",
     "output_type": "stream",
     "text": [
      "Training set accuracy:\n",
      "Percent Type I errors: 0.03832515002727769\n",
      "Percent Type II errors: 0.15698308783415166\n",
      "\n",
      "Test set accuracy:\n",
      "Percent Type I errors: 0.06993865030674846\n",
      "Percent Type II errors: 0.18895705521472392\n"
     ]
    }
   ],
   "source": [
    "adjust_parameters(X, y, 500, 3, 'deviance')"
   ]
  },
  {
   "cell_type": "code",
   "execution_count": 27,
   "metadata": {},
   "outputs": [
    {
     "name": "stdout",
     "output_type": "stream",
     "text": [
      "Training set accuracy:\n",
      "Percent Type I errors: 0.02414075286415712\n",
      "Percent Type II errors: 0.12575013638843427\n",
      "\n",
      "Test set accuracy:\n",
      "Percent Type I errors: 0.08957055214723926\n",
      "Percent Type II errors: 0.18159509202453988\n"
     ]
    }
   ],
   "source": [
    "adjust_parameters(X, y, 500, 4, 'deviance')"
   ]
  },
  {
   "cell_type": "markdown",
   "metadata": {},
   "source": [
    "Increasing the max_depth paramters leads to overfitting here. The errors go down in the training set, but go up in the test set."
   ]
  },
  {
   "cell_type": "code",
   "execution_count": 28,
   "metadata": {},
   "outputs": [
    {
     "name": "stdout",
     "output_type": "stream",
     "text": [
      "Training set accuracy:\n",
      "Percent Type I errors: 0.046235679214402615\n",
      "Percent Type II errors: 0.1987179487179487\n",
      "\n",
      "Test set accuracy:\n",
      "Percent Type I errors: 0.049079754601226995\n",
      "Percent Type II errors: 0.20736196319018405\n"
     ]
    }
   ],
   "source": [
    "adjust_parameters(X, y, 500, 1, 'deviance')"
   ]
  },
  {
   "cell_type": "markdown",
   "metadata": {},
   "source": [
    "Decreasing max_depth to 1 also led to an increase in errors."
   ]
  },
  {
   "cell_type": "markdown",
   "metadata": {},
   "source": [
    "#### Adjusting max_depth:"
   ]
  },
  {
   "cell_type": "code",
   "execution_count": 29,
   "metadata": {},
   "outputs": [
    {
     "name": "stdout",
     "output_type": "stream",
     "text": [
      "Training set accuracy:\n",
      "Percent Type I errors: 0.04773595199127114\n",
      "Percent Type II errors: 0.1793507910529187\n",
      "\n",
      "Test set accuracy:\n",
      "Percent Type I errors: 0.06748466257668712\n",
      "Percent Type II errors: 0.19141104294478528\n"
     ]
    }
   ],
   "source": [
    "adjust_parameters(X, y, 500, 2, 'exponential')"
   ]
  },
  {
   "cell_type": "markdown",
   "metadata": {},
   "source": [
    "Led to an increase in errors"
   ]
  },
  {
   "cell_type": "markdown",
   "metadata": {},
   "source": [
    "#### Adding and adjusting subsamples"
   ]
  },
  {
   "cell_type": "code",
   "execution_count": 32,
   "metadata": {},
   "outputs": [],
   "source": [
    "def adjust_parameters2(X, y, n_estimators, max_depth, loss, subsample):\n",
    "    offset = int(X.shape[0] * 0.9)\n",
    "    X_train, y_train = X[:offset], y[:offset]\n",
    "    X_test, y_test = X[offset:], y[offset:]\n",
    "    # Initialize and fit the model.\n",
    "    params = {'n_estimators': n_estimators,\n",
    "          'max_depth': max_depth,\n",
    "          'loss': loss,\n",
    "          'subsample': subsample}\n",
    "    clf = ensemble.GradientBoostingClassifier(**params)\n",
    "    clf.fit(X_train, y_train)\n",
    "\n",
    "    predict_train = clf.predict(X_train)\n",
    "    predict_test = clf.predict(X_test)\n",
    "\n",
    "    # Accuracy tables.\n",
    "    table_train = pd.crosstab(y_train, predict_train, margins=True)\n",
    "    table_test = pd.crosstab(y_test, predict_test, margins=True)\n",
    "\n",
    "    train_tI_errors = table_train.loc[0.0,1.0] / table_train.loc['All','All']\n",
    "    train_tII_errors = table_train.loc[1.0,0.0] / table_train.loc['All','All']\n",
    "\n",
    "    test_tI_errors = table_test.loc[0.0,1.0]/table_test.loc['All','All']\n",
    "    test_tII_errors = table_test.loc[1.0,0.0]/table_test.loc['All','All']\n",
    "    \n",
    "    print((\n",
    "        'Training set accuracy:\\n'\n",
    "        'Percent Type I errors: {}\\n'\n",
    "        'Percent Type II errors: {}\\n\\n'\n",
    "        'Test set accuracy:\\n'\n",
    "        'Percent Type I errors: {}\\n'\n",
    "        'Percent Type II errors: {}'\n",
    "    ).format(train_tI_errors, train_tII_errors, test_tI_errors, test_tII_errors))"
   ]
  },
  {
   "cell_type": "code",
   "execution_count": 33,
   "metadata": {},
   "outputs": [
    {
     "name": "stdout",
     "output_type": "stream",
     "text": [
      "Training set accuracy:\n",
      "Percent Type I errors: 0.047872340425531915\n",
      "Percent Type II errors: 0.17498636115657393\n",
      "\n",
      "Test set accuracy:\n",
      "Percent Type I errors: 0.06503067484662577\n",
      "Percent Type II errors: 0.19263803680981595\n"
     ]
    }
   ],
   "source": [
    "#default is 1\n",
    "adjust_parameters2(X, y, 500, 2, 'deviance', .3)"
   ]
  },
  {
   "cell_type": "code",
   "execution_count": 34,
   "metadata": {},
   "outputs": [
    {
     "name": "stdout",
     "output_type": "stream",
     "text": [
      "Training set accuracy:\n",
      "Percent Type I errors: 0.046917621385706494\n",
      "Percent Type II errors: 0.17498636115657393\n",
      "\n",
      "Test set accuracy:\n",
      "Percent Type I errors: 0.07239263803680981\n",
      "Percent Type II errors: 0.19386503067484662\n"
     ]
    }
   ],
   "source": [
    "adjust_parameters2(X, y, 500, 2, 'deviance', .7)"
   ]
  },
  {
   "cell_type": "markdown",
   "metadata": {},
   "source": [
    "None of these methods reduced the number of errors."
   ]
  }
 ],
 "metadata": {
  "kernelspec": {
   "display_name": "Python 3",
   "language": "python",
   "name": "python3"
  },
  "language_info": {
   "codemirror_mode": {
    "name": "ipython",
    "version": 3
   },
   "file_extension": ".py",
   "mimetype": "text/x-python",
   "name": "python",
   "nbconvert_exporter": "python",
   "pygments_lexer": "ipython3",
   "version": "3.7.3"
  }
 },
 "nbformat": 4,
 "nbformat_minor": 2
}
