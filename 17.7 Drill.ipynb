{
 "cells": [
  {
   "cell_type": "markdown",
   "metadata": {},
   "source": [
    "    Jacob Knopping\n",
    "    1/9/2020\n",
    "    \n",
    "    17.7 Drill: Accuracy and Errror Types"
   ]
  },
  {
   "cell_type": "code",
   "execution_count": 1,
   "metadata": {},
   "outputs": [],
   "source": [
    "%matplotlib inline\n",
    "import numpy as np\n",
    "import pandas as pd\n",
    "import scipy\n",
    "import sklearn\n",
    "import matplotlib.pyplot as plt\n",
    "import seaborn as sns"
   ]
  },
  {
   "cell_type": "code",
   "execution_count": 2,
   "metadata": {},
   "outputs": [],
   "source": [
    "# Grab and process the raw data.\n",
    "data_path = (\"https://raw.githubusercontent.com/Thinkful-Ed/data-201-resources/\"\n",
    "             \"master/sms_spam_collection/SMSSpamCollection\"\n",
    "            )\n",
    "sms_raw = pd.read_csv(data_path, delimiter= '\\t', header=None)\n",
    "sms_raw.columns = ['spam', 'message']\n",
    "\n",
    "# Enumerate our spammy keywords.\n",
    "keywords = ['click', 'offer', 'winner', 'buy', 'free', 'cash', 'urgent']\n",
    "\n",
    "for key in keywords:\n",
    "    sms_raw[str(key)] = sms_raw.message.str.contains(\n",
    "        ' ' + str(key) + ' ',\n",
    "        case=False\n",
    ")\n",
    "\n",
    "sms_raw['allcaps'] = sms_raw.message.str.isupper()\n",
    "sms_raw['spam'] = (sms_raw['spam'] == 'spam')\n",
    "data = sms_raw[keywords + ['allcaps']]\n",
    "target = sms_raw['spam']\n",
    "\n",
    "from sklearn.naive_bayes import BernoulliNB\n",
    "bnb = BernoulliNB()\n",
    "y_pred = bnb.fit(data, target).predict(data)"
   ]
  },
  {
   "cell_type": "code",
   "execution_count": 3,
   "metadata": {},
   "outputs": [
    {
     "name": "stdout",
     "output_type": "stream",
     "text": [
      "Number of mislabeled points out of a total 5572 points : 604\n",
      "Accuracy: 89.16008614501077%\n"
     ]
    }
   ],
   "source": [
    "# Calculate the accuracy of your model here.\n",
    "\n",
    "print(\"Number of mislabeled points out of a total {} points : {}\".format(\n",
    "    data.shape[0],\n",
    "    (target != y_pred).sum()\n",
    "))\n",
    "\n",
    "#percent_acc = 100 - (100*((target != y_pred).sum())/data.shape[0])\n",
    "#print('% Accuracy: {}'.format(percent_acc))\n",
    "#alternatively\n",
    "accuracy = 100*((target == y_pred).sum())/data.shape[0]\n",
    "print('Accuracy: {}%'.format(accuracy))"
   ]
  },
  {
   "cell_type": "code",
   "execution_count": 4,
   "metadata": {},
   "outputs": [
    {
     "data": {
      "text/plain": [
       "array([[4770,   55],\n",
       "       [ 549,  198]], dtype=int64)"
      ]
     },
     "execution_count": 4,
     "metadata": {},
     "output_type": "execute_result"
    }
   ],
   "source": [
    "from sklearn.metrics import confusion_matrix\n",
    "confusion_matrix(target, y_pred)"
   ]
  },
  {
   "cell_type": "code",
   "execution_count": 5,
   "metadata": {},
   "outputs": [
    {
     "name": "stdout",
     "output_type": "stream",
     "text": [
      "Error count: 604\n",
      "Correct count: 4968\n",
      "Accuracy:  89.16008614501077 %\n",
      "Total count: 5572\n",
      "Spam count: 747\n",
      "Ham count: 4825\n",
      "Sensitivity: 26.506024096385545%\n",
      "Specificity: 98.860103626943%\n"
     ]
    },
    {
     "data": {
      "text/plain": [
       "[[4770, 549], [55, 198]]"
      ]
     },
     "execution_count": 5,
     "metadata": {},
     "output_type": "execute_result"
    }
   ],
   "source": [
    "# Build your confusion matrix and calculate sensitivity and specificity here.\n",
    "\n",
    "#error count\n",
    "print('Error count:', (target != y_pred).sum())\n",
    "#correct count\n",
    "print('Correct count:', (target == y_pred).sum())\n",
    "accuracy = 100*((target == y_pred).sum())/data.shape[0]\n",
    "print('Accuracy: ', accuracy, '%')\n",
    "#total count\n",
    "print('Total count:', data.shape[0])\n",
    "#spam count\n",
    "print('Spam count:', sms_raw.loc[sms_raw.spam == True].spam.count().sum())\n",
    "#ham count\n",
    "print('Ham count:', sms_raw.loc[sms_raw.spam == False].spam.count().sum())\n",
    "\n",
    "\n",
    "#confusion matrix: [[true negatives], [false positives],\n",
    "#                   [true positives], [false negatives]]\n",
    "#real numbers are: 4770, 55, 549, 198\n",
    "\n",
    "def calculate_cm(y_pred, target):\n",
    "    tp = 0 #True Positives\n",
    "    tn = 0 #True Negatives \n",
    "    fp = 0 #False Positives\n",
    "    fn = 0 #False Negatives\n",
    "    x = 0\n",
    "    while x < len(y_pred):\n",
    "        if y_pred[x] == 0 and target[x] == 0:\n",
    "            tn += 1\n",
    "        if y_pred[x] == 0 and target[x] == 1:\n",
    "            fp += 1\n",
    "        if y_pred[x] == 1 and target[x] == 1:\n",
    "            tp += 1\n",
    "        if y_pred[x] == 1 and target[x] == 0:\n",
    "            fn += 1\n",
    "        x += 1\n",
    "    cm = [[tn, fp],[fn, tp]]\n",
    "    sens = (tp)/(tp + fp) *100\n",
    "    spec = tn/(tn + fn) *100\n",
    "    print('Sensitivity: {}%'.format(sens))\n",
    "    print('Specificity: {}%'.format(spec))\n",
    "    return cm#, sens, spec\n",
    "\n",
    "calculate_cm(y_pred, target)"
   ]
  },
  {
   "cell_type": "markdown",
   "metadata": {},
   "source": [
    "Helpful link: http://bluegalaxy.info/codewalk/2017/12/20/data-science-how-to-calculate-confusion-matrix/"
   ]
  }
 ],
 "metadata": {
  "kernelspec": {
   "display_name": "Python 3",
   "language": "python",
   "name": "python3"
  },
  "language_info": {
   "codemirror_mode": {
    "name": "ipython",
    "version": 3
   },
   "file_extension": ".py",
   "mimetype": "text/x-python",
   "name": "python",
   "nbconvert_exporter": "python",
   "pygments_lexer": "ipython3",
   "version": "3.7.3"
  }
 },
 "nbformat": 4,
 "nbformat_minor": 2
}
