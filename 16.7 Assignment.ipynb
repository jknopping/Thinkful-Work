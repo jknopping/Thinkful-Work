{
 "cells": [
  {
   "cell_type": "markdown",
   "metadata": {},
   "source": [
    "Jacob Knopping\n",
    "1/3/2020\n",
    "\n",
    "## 16.7 Assignment"
   ]
  },
  {
   "cell_type": "markdown",
   "metadata": {},
   "source": [
    "To complete this assignment, submit a link to a Jupyter notebook containing your solutions to the following tasks:\n",
    "\n",
    "    1. Are the exam score variables normally distributed? If not, apply a Box-Cox transformation. Does anything change?\n",
    "    2. Say we want to use a single variable for the exam scores as our target. For this purpose, create a new variable by taking a weighted average of the exam scores. Check whether this new variable is normally distributed. If it's not normally distributed, apply a Box-Cox transformation and check whether or not the transformed variable is normally distributed.\n",
    "    3. Which variables seem related to the target variable (the newly created variable in the previous question)? If our goal is to explain the determinants of success in exams, which variables in our dataset might be useful?"
   ]
  },
  {
   "cell_type": "code",
   "execution_count": 1,
   "metadata": {},
   "outputs": [],
   "source": [
    "import pandas as pd\n",
    "import matplotlib.pyplot as plt\n",
    "import seaborn as sns\n",
    "from sqlalchemy import create_engine\n",
    "from scipy.stats.stats import ttest_ind\n",
    "import warnings\n",
    "\n",
    "warnings.filterwarnings('ignore')\n",
    "sns.set(style=\"whitegrid\")"
   ]
  },
  {
   "cell_type": "code",
   "execution_count": 2,
   "metadata": {},
   "outputs": [],
   "source": [
    "postgres_user = 'dsbc_student'\n",
    "postgres_pw = '7*.8G9QH21'\n",
    "postgres_host = '142.93.121.174'\n",
    "postgres_port = '5432'\n",
    "postgres_db = 'studentsperformance'\n",
    "\n",
    "engine = create_engine('postgresql://{}:{}@{}:{}/{}'.format(\n",
    "    postgres_user, postgres_pw, postgres_host, postgres_port, postgres_db))\n",
    "\n",
    "education_df = pd.read_sql_query('select * from studentsperformance',con=engine)\n",
    "\n",
    "# no need for an open connection, \n",
    "# as we're only doing a single query\n",
    "engine.dispose()"
   ]
  },
  {
   "cell_type": "markdown",
   "metadata": {},
   "source": [
    "#### 1. Are the exam score variables distributed normally? If not, apply Box-Cox transformation. Does anything change?"
   ]
  },
  {
   "cell_type": "code",
   "execution_count": 3,
   "metadata": {},
   "outputs": [
    {
     "data": {
      "text/html": [
       "<div>\n",
       "<style scoped>\n",
       "    .dataframe tbody tr th:only-of-type {\n",
       "        vertical-align: middle;\n",
       "    }\n",
       "\n",
       "    .dataframe tbody tr th {\n",
       "        vertical-align: top;\n",
       "    }\n",
       "\n",
       "    .dataframe thead th {\n",
       "        text-align: right;\n",
       "    }\n",
       "</style>\n",
       "<table border=\"1\" class=\"dataframe\">\n",
       "  <thead>\n",
       "    <tr style=\"text-align: right;\">\n",
       "      <th></th>\n",
       "      <th>gender</th>\n",
       "      <th>race/ethnicity</th>\n",
       "      <th>parental level of education</th>\n",
       "      <th>lunch</th>\n",
       "      <th>test preparation course</th>\n",
       "      <th>math score</th>\n",
       "      <th>reading score</th>\n",
       "      <th>writing score</th>\n",
       "    </tr>\n",
       "  </thead>\n",
       "  <tbody>\n",
       "    <tr>\n",
       "      <th>0</th>\n",
       "      <td>female</td>\n",
       "      <td>group B</td>\n",
       "      <td>bachelor's degree</td>\n",
       "      <td>standard</td>\n",
       "      <td>none</td>\n",
       "      <td>72</td>\n",
       "      <td>72</td>\n",
       "      <td>74</td>\n",
       "    </tr>\n",
       "    <tr>\n",
       "      <th>1</th>\n",
       "      <td>female</td>\n",
       "      <td>group C</td>\n",
       "      <td>some college</td>\n",
       "      <td>standard</td>\n",
       "      <td>completed</td>\n",
       "      <td>69</td>\n",
       "      <td>90</td>\n",
       "      <td>88</td>\n",
       "    </tr>\n",
       "    <tr>\n",
       "      <th>2</th>\n",
       "      <td>female</td>\n",
       "      <td>group B</td>\n",
       "      <td>master's degree</td>\n",
       "      <td>standard</td>\n",
       "      <td>none</td>\n",
       "      <td>90</td>\n",
       "      <td>95</td>\n",
       "      <td>93</td>\n",
       "    </tr>\n",
       "    <tr>\n",
       "      <th>3</th>\n",
       "      <td>male</td>\n",
       "      <td>group A</td>\n",
       "      <td>associate's degree</td>\n",
       "      <td>free/reduced</td>\n",
       "      <td>none</td>\n",
       "      <td>47</td>\n",
       "      <td>57</td>\n",
       "      <td>44</td>\n",
       "    </tr>\n",
       "    <tr>\n",
       "      <th>4</th>\n",
       "      <td>male</td>\n",
       "      <td>group C</td>\n",
       "      <td>some college</td>\n",
       "      <td>standard</td>\n",
       "      <td>none</td>\n",
       "      <td>76</td>\n",
       "      <td>78</td>\n",
       "      <td>75</td>\n",
       "    </tr>\n",
       "  </tbody>\n",
       "</table>\n",
       "</div>"
      ],
      "text/plain": [
       "   gender race/ethnicity parental level of education         lunch  \\\n",
       "0  female        group B           bachelor's degree      standard   \n",
       "1  female        group C                some college      standard   \n",
       "2  female        group B             master's degree      standard   \n",
       "3    male        group A          associate's degree  free/reduced   \n",
       "4    male        group C                some college      standard   \n",
       "\n",
       "  test preparation course  math score  reading score  writing score  \n",
       "0                    none          72             72             74  \n",
       "1               completed          69             90             88  \n",
       "2                    none          90             95             93  \n",
       "3                    none          47             57             44  \n",
       "4                    none          76             78             75  "
      ]
     },
     "execution_count": 3,
     "metadata": {},
     "output_type": "execute_result"
    }
   ],
   "source": [
    "education_df.head()"
   ]
  },
  {
   "cell_type": "code",
   "execution_count": 6,
   "metadata": {},
   "outputs": [
    {
     "data": {
      "text/plain": [
       "Text(0.5, 1.0, 'histogram of writing score')"
      ]
     },
     "execution_count": 6,
     "metadata": {},
     "output_type": "execute_result"
    },
    {
     "data": {
      "image/png": "[encoded data removed]",
      "text/plain": [
       "<Figure size 1080x360 with 3 Axes>"
      ]
     },
     "metadata": {
      "needs_background": "light"
     },
     "output_type": "display_data"
    }
   ],
   "source": [
    "plt.figure(figsize=(15,5))\n",
    "\n",
    "# histograms of the original data\n",
    "plt.subplot(1, 3, 1)\n",
    "plt.hist(education_df[\"math score\"])\n",
    "plt.title(\"histogram of math score\")\n",
    "\n",
    "plt.subplot(1, 3, 2)\n",
    "plt.hist(education_df[\"reading score\"])\n",
    "plt.title(\"histogram of reading score\")\n",
    "\n",
    "plt.subplot(1, 3, 3)\n",
    "plt.hist(education_df[\"writing score\"])\n",
    "plt.title(\"histogram of writing score\")"
   ]
  },
  {
   "cell_type": "code",
   "execution_count": 10,
   "metadata": {},
   "outputs": [
    {
     "name": "stdout",
     "output_type": "stream",
     "text": [
      "NormaltestResult(statistic=15.408960513931822, pvalue=0.00045080293869937836)\n",
      "NormaltestResult(statistic=11.11741279628622, pvalue=0.003853758403576582)\n",
      "NormaltestResult(statistic=13.606450837263859, pvalue=0.0011101885439899974)\n",
      "(15.912256686712709, 0.0003505075386818213)\n",
      "(11.383300575987892, 0.0033740202672214448)\n",
      "(13.98509448257235, 0.0009187033894586527)\n"
     ]
    }
   ],
   "source": [
    "#Normal test\n",
    "from scipy.stats import normaltest\n",
    "\n",
    "print(normaltest(education_df['math score']))\n",
    "print(normaltest(education_df['reading score']))\n",
    "print(normaltest(education_df['writing score']))\n",
    "\n",
    "#Jarque-Bera test\n",
    "from scipy.stats import jarque_bera\n",
    "\n",
    "print(jarque_bera(education_df['math score']))\n",
    "print(jarque_bera(education_df['reading score']))\n",
    "print(jarque_bera(education_df['writing score']))"
   ]
  },
  {
   "cell_type": "markdown",
   "metadata": {},
   "source": [
    "Jarque-Bera tests and normal tests confirm that the original distributions are not normal."
   ]
  },
  {
   "cell_type": "code",
   "execution_count": 15,
   "metadata": {},
   "outputs": [
    {
     "data": {
      "image/png": "[encoded data removed]",
      "text/plain": [
       "<Figure size 1080x360 with 3 Axes>"
      ]
     },
     "metadata": {
      "needs_background": "light"
     },
     "output_type": "display_data"
    }
   ],
   "source": [
    "from scipy.stats import boxcox\n",
    "\n",
    "bc_math,_ = boxcox(education_df[education_df[\"math score\"] > 0][\"math score\"])\n",
    "bc_reading,_ = boxcox(education_df['reading score'])\n",
    "bc_writing,_ = boxcox(education_df['writing score'])\n",
    "\n",
    "plt.figure(figsize=(15,5))\n",
    "\n",
    "# histograms of the boxcox data\n",
    "plt.subplot(1, 3, 1)\n",
    "plt.hist(bc_math)\n",
    "plt.title(\"histogram of math score\")\n",
    "\n",
    "plt.subplot(1, 3, 2)\n",
    "plt.hist(bc_reading)\n",
    "plt.title(\"histogram of reading score\")\n",
    "\n",
    "plt.subplot(1, 3, 3)\n",
    "plt.hist(bc_writing)\n",
    "plt.title(\"histogram of writing score\")\n",
    "\n",
    "plt.show()"
   ]
  },
  {
   "cell_type": "code",
   "execution_count": 18,
   "metadata": {},
   "outputs": [
    {
     "name": "stdout",
     "output_type": "stream",
     "text": [
      "NormaltestResult(statistic=1.8323073377495822, pvalue=0.40005482895717037)\n",
      "NormaltestResult(statistic=5.282274611852865, pvalue=0.07128015609575467)\n",
      "NormaltestResult(statistic=6.267311355043339, pvalue=0.04355827085023795)\n",
      "(1.720098104874378, 0.4231413256953709)\n",
      "(4.119778575331906, 0.1274680814024559)\n",
      "(4.746478090040098, 0.09317842784055597)\n"
     ]
    }
   ],
   "source": [
    "from scipy.stats import normaltest\n",
    "\n",
    "print(normaltest(bc_math))\n",
    "print(normaltest(bc_reading))\n",
    "print(normaltest(bc_writing))\n",
    "\n",
    "#Jarque-Bera test\n",
    "from scipy.stats import jarque_bera\n",
    "\n",
    "print(jarque_bera(bc_math))\n",
    "print(jarque_bera(bc_reading))\n",
    "print(jarque_bera(bc_writing))"
   ]
  },
  {
   "cell_type": "markdown",
   "metadata": {},
   "source": [
    "After the Box-Cox transformation, the distributions became much closer to normal, as confirmed by both the normal and Jarque-Bera test statistics."
   ]
  },
  {
   "cell_type": "markdown",
   "metadata": {},
   "source": [
    "#### 2. Say, we want to use a single variable for the exam scores as our target. For this purpose, create a new variable by taking a weighted average of the exam scores. Check whether this new variable is normally distributed or not. If it's not normally distributed, apply Box-Cox transformation and check whether the transformed variable is normally distributed."
   ]
  },
  {
   "cell_type": "code",
   "execution_count": 19,
   "metadata": {},
   "outputs": [
    {
     "data": {
      "image/png": "[encoded data removed]",
      "text/plain": [
       "<Figure size 432x288 with 1 Axes>"
      ]
     },
     "metadata": {
      "needs_background": "light"
     },
     "output_type": "display_data"
    },
    {
     "name": "stdout",
     "output_type": "stream",
     "text": [
      "(15.453387913085168, 0.00044089934264401887)\n",
      "NormaltestResult(statistic=15.186721327231322, pvalue=0.0005037851534494478)\n"
     ]
    }
   ],
   "source": [
    "exam_score = (education_df[\"math score\"] +\n",
    "              education_df[\"reading score\"] + education_df[\"writing score\"])/3\n",
    "\n",
    "plt.hist(exam_score)\n",
    "plt.title(\"histogram of exam score\")\n",
    "plt.show()\n",
    "\n",
    "jb_stats = jarque_bera(exam_score)\n",
    "norm_stats = normaltest(exam_score)\n",
    "\n",
    "print(jb_stats)\n",
    "print(norm_stats)"
   ]
  },
  {
   "cell_type": "markdown",
   "metadata": {},
   "source": [
    "The weighted avergae of exam scores is not normally distributed."
   ]
  },
  {
   "cell_type": "code",
   "execution_count": 20,
   "metadata": {},
   "outputs": [
    {
     "data": {
      "image/png": "[encoded data removed]",
      "text/plain": [
       "<Figure size 432x288 with 1 Axes>"
      ]
     },
     "metadata": {
      "needs_background": "light"
     },
     "output_type": "display_data"
    },
    {
     "name": "stdout",
     "output_type": "stream",
     "text": [
      "(2.4353987431906026, 0.29591016374203183)\n",
      "NormaltestResult(statistic=2.779857245981238, pvalue=0.2490930835165177)\n"
     ]
    }
   ],
   "source": [
    "exams_boxcox,_ = boxcox(exam_score)\n",
    "\n",
    "plt.hist(exams_boxcox)\n",
    "plt.title(\"histogram of exam score (box-cox transformed)\")\n",
    "plt.show()\n",
    "\n",
    "jb_stats = jarque_bera(exams_boxcox)\n",
    "norm_stats = normaltest(exams_boxcox)\n",
    "\n",
    "print(jb_stats)\n",
    "print(norm_stats)"
   ]
  },
  {
   "cell_type": "markdown",
   "metadata": {},
   "source": [
    "The distribution for the new variable becomes normal with the Box-Cox transformation."
   ]
  },
  {
   "cell_type": "markdown",
   "metadata": {},
   "source": [
    "#### 3. Which variables do seem to be related with the target variable (the newly created variable in the previous question)? If our goal is to explain the determinants of the success in the exams, which variables in our dataset might be useful?"
   ]
  },
  {
   "cell_type": "code",
   "execution_count": 21,
   "metadata": {},
   "outputs": [
    {
     "data": {
      "image/png": "[encoded data removed]",
      "text/plain": [
       "<Figure size 1296x720 with 5 Axes>"
      ]
     },
     "metadata": {
      "needs_background": "light"
     },
     "output_type": "display_data"
    }
   ],
   "source": [
    "#From thinkful:\n",
    "education_df[\"exam_score\"] = exam_score\n",
    "\n",
    "plt.figure(figsize=(18, 10))\n",
    "\n",
    "plt.subplot(2, 3, 1)\n",
    "plt.bar(education_df.groupby(\"race/ethnicity\")\n",
    "        [\"exam_score\"].mean().index, education_df.groupby(\"race/ethnicity\")[\"exam_score\"].mean())\n",
    "\n",
    "plt.title(\"average exam scores wrt. race/ethnicity\")\n",
    "plt.xticks(rotation=\"vertical\")\n",
    "\n",
    "plt.subplot(2, 3, 2)\n",
    "plt.bar(education_df.groupby(\"gender\")\n",
    "        [\"exam_score\"].mean().index, education_df.groupby(\"gender\")[\"exam_score\"].mean())\n",
    "\n",
    "plt.title(\"average exam scores wrt. gender\")\n",
    "plt.xticks(rotation=\"vertical\")\n",
    "\n",
    "plt.subplot(2, 3, 3)\n",
    "plt.bar(education_df.groupby(\"parental level of education\")\n",
    "        [\"exam_score\"].mean().index, education_df.groupby(\"parental level of education\")[\"exam_score\"].mean())\n",
    "\n",
    "plt.title(\"average exam scores wrt. parental level of education\")\n",
    "plt.xticks(rotation=\"vertical\")\n",
    "\n",
    "plt.subplot(2, 3, 4)\n",
    "plt.bar(education_df.groupby(\"lunch\")\n",
    "        [\"exam_score\"].mean().index, education_df.groupby(\"lunch\")[\"exam_score\"].mean())\n",
    "\n",
    "plt.title(\"average exam scores wrt. lunch\")\n",
    "plt.xticks(rotation=\"vertical\")\n",
    "\n",
    "plt.subplot(2, 3, 5)\n",
    "plt.bar(education_df.groupby(\"test preparation course\")\n",
    "        [\"exam_score\"].mean().index, education_df.groupby(\"test preparation course\")[\"exam_score\"].mean())\n",
    "\n",
    "plt.title(\"average exam scores wrt. test preparation course\")\n",
    "plt.xticks(rotation=\"vertical\")\n",
    "\n",
    "plt.tight_layout()\n",
    "plt.show()"
   ]
  },
  {
   "cell_type": "markdown",
   "metadata": {},
   "source": [
    "From thinkful: \n",
    "\n",
    "    Average exam score increases from group A to group E. Hence race/ethnicity may play an important role in explaining the successes in the exams.\n",
    "\n",
    "    Female students seem to be more successful than the males.\n",
    "\n",
    "    There is also some variation between the parental levels of education with respect to the exam scores.\n",
    "\n",
    "    Lunch type also exhibits variance in the average exam scores. But, this is probably not because of the lunch type itself but because of something that affects both the lunch type and the exam scores.\n",
    "\n",
    "    Those who completed the test preparation course seem to be more successful than the others.\n",
    "\n",
    "    Considering all these, all variables might be used in explaining the success in the exams but the lunch variable should be used precautiously."
   ]
  }
 ],
 "metadata": {
  "kernelspec": {
   "display_name": "Python 3",
   "language": "python",
   "name": "python3"
  },
  "language_info": {
   "codemirror_mode": {
    "name": "ipython",
    "version": 3
   },
   "file_extension": ".py",
   "mimetype": "text/x-python",
   "name": "python",
   "nbconvert_exporter": "python",
   "pygments_lexer": "ipython3",
   "version": "3.7.3"
  }
 },
 "nbformat": 4,
 "nbformat_minor": 2
}
