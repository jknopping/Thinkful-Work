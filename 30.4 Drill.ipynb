{
 "cells": [
  {
   "cell_type": "markdown",
   "metadata": {},
   "source": [
    "    Jacob Knopping\n",
    "    3/19/2020\n",
    "    \n",
    "    30.4 Drill"
   ]
  },
  {
   "cell_type": "markdown",
   "metadata": {},
   "source": [
    "Implementing a tree:"
   ]
  },
  {
   "cell_type": "code",
   "execution_count": 1,
   "metadata": {},
   "outputs": [],
   "source": [
    "class Node:\n",
    "    def __init__(self, val):\n",
    "        self.left = None\n",
    "        self.right = None\n",
    "        self.val = val"
   ]
  },
  {
   "cell_type": "code",
   "execution_count": 2,
   "metadata": {},
   "outputs": [],
   "source": [
    "# Establish initial root node and children\n",
    "root = Node('A')\n",
    "root.left = Node('B')\n",
    "root.right = Node('C')\n",
    "\n",
    "# Add children for B and C\n",
    "root.left.left = Node('D')\n",
    "root.left.right = Node('E')\n",
    "root.right.left = Node('F')\n",
    "root.right.right = Node('G')\n",
    "\n",
    "# Add children for D, E, F, G\n",
    "# D\n",
    "root.left.left.left = Node('H')\n",
    "root.left.left.right = Node('I')\n",
    "#E\n",
    "root.left.right.left = Node('J')\n",
    "root.left.right.right = Node('K')\n",
    "#F\n",
    "root.right.left.left = Node('L')\n",
    "root.right.left.right = Node('M')\n",
    "#G\n",
    "root.right.right.left = Node('N')\n",
    "root.right.right.right = Node('O')"
   ]
  },
  {
   "cell_type": "code",
   "execution_count": 3,
   "metadata": {},
   "outputs": [
    {
     "name": "stdout",
     "output_type": "stream",
     "text": [
      "D\n"
     ]
    }
   ],
   "source": [
    "# Quick test of implemented tree\n",
    "print(root.left.left.val)"
   ]
  },
  {
   "cell_type": "markdown",
   "metadata": {},
   "source": [
    "Implementing/traversing (breadth first):\n",
    "\n",
    "https://stackoverflow.com/questions/2598437/how-to-implement-a-binary-tree"
   ]
  },
  {
   "cell_type": "code",
   "execution_count": 4,
   "metadata": {},
   "outputs": [],
   "source": [
    "class Node:\n",
    "    def __init__(self, val):\n",
    "        self.l = None\n",
    "        self.r = None\n",
    "        self.v = val\n",
    "\n",
    "class Tree:\n",
    "    def __init__(self):\n",
    "        self.root = None\n",
    "\n",
    "    def getRoot(self):\n",
    "        return self.root\n",
    "\n",
    "    def add(self, val):\n",
    "        if(self.root == None):\n",
    "            self.root = Node(val)\n",
    "        else:\n",
    "            self._add(val, self.root)\n",
    "\n",
    "    def _add(self, val, node):\n",
    "        if(val < node.v):\n",
    "            if(node.l != None):\n",
    "                self._add(val, node.l)\n",
    "            else:\n",
    "                node.l = Node(val)\n",
    "        else:\n",
    "            if(node.r != None):\n",
    "                self._add(val, node.r)\n",
    "            else:\n",
    "                node.r = Node(val)\n",
    "\n",
    "    def find(self, val):\n",
    "        if(self.root != None):\n",
    "            return self._find(val, self.root)\n",
    "        else:\n",
    "            return None\n",
    "\n",
    "    def _find(self, val, node):\n",
    "        if(val == node.v):\n",
    "            return node\n",
    "        elif(val < node.v and node.l != None):\n",
    "            self._find(val, node.l)\n",
    "        elif(val > node.v and node.r != None):\n",
    "            self._find(val, node.r)\n",
    "\n",
    "    def deleteTree(self):\n",
    "        # garbage collector will do this for us. \n",
    "        self.root = None\n",
    "\n",
    "    def printTree(self):\n",
    "        if(self.root != None):\n",
    "            self._printTree(self.root)\n",
    "\n",
    "    def _printTree(self, node):\n",
    "        if(node != None):\n",
    "            self._printTree(node.l)\n",
    "            print(str(node.v) + ' ')\n",
    "            self._printTree(node.r)\n"
   ]
  },
  {
   "cell_type": "code",
   "execution_count": 5,
   "metadata": {},
   "outputs": [
    {
     "name": "stdout",
     "output_type": "stream",
     "text": [
      "0 \n",
      "2 \n",
      "4 \n",
      "6 \n",
      "8 \n",
      "10 \n",
      "12 \n",
      "14 \n",
      "16 \n",
      "18 \n",
      "20 \n",
      "22 \n",
      "24 \n",
      "26 \n",
      "28 \n"
     ]
    }
   ],
   "source": [
    "'''\n",
    "                        0\n",
    "            2                      4\n",
    "       6         8            10       12\n",
    "    14    16     18  20      22  24    26   28\n",
    "'''\n",
    "tree = Tree()\n",
    "tree.add(0)\n",
    "tree.add(2)\n",
    "tree.add(4)\n",
    "tree.add(6)\n",
    "tree.add(8)\n",
    "tree.add(10)\n",
    "tree.add(12)\n",
    "tree.add(14)\n",
    "tree.add(16)\n",
    "tree.add(18)\n",
    "tree.add(20)\n",
    "tree.add(22)\n",
    "tree.add(24)\n",
    "tree.add(26)\n",
    "tree.add(28)\n",
    "\n",
    "tree.printTree()"
   ]
  }
 ],
 "metadata": {
  "kernelspec": {
   "display_name": "Python 3",
   "language": "python",
   "name": "python3"
  },
  "language_info": {
   "codemirror_mode": {
    "name": "ipython",
    "version": 3
   },
   "file_extension": ".py",
   "mimetype": "text/x-python",
   "name": "python",
   "nbconvert_exporter": "python",
   "pygments_lexer": "ipython3",
   "version": "3.7.4"
  }
 },
 "nbformat": 4,
 "nbformat_minor": 2
}
