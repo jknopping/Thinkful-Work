{
 "cells": [
  {
   "cell_type": "markdown",
   "metadata": {},
   "source": [
    "    Jacob Knopping\n",
    "    3/25/2020\n",
    "\n",
    "### 34.5 Challenge: What to use"
   ]
  },
  {
   "cell_type": "markdown",
   "metadata": {},
   "source": [
    "Using selected questions from the 2012 and 2014 editions of the European Social Survey, address the following questions. \n",
    "\n",
    "1. Did people become less trusting from 2012 to 2014? Compute results for each country in the sample.\n",
    "2. Did people become happier from 2012 to 2014? Compute results for each country in the sample.\n",
    "3. Who reported watching more TV in 2012, men or women?\n",
    "4. Who was more likely to believe people were fair in 2012, people living with a partner or people living alone?\n",
    "5. Pick three or four of the countries in the sample and compare how often people met socially in 2014. Are there differences, and if so, which countries stand out?\n",
    "6. Pick three or four of the countries in the sample and compare how often people took part in social activities, relative to others their age, in 2014. Are there differences, and if so, which countries stand out?\n",
    "\n",
    "Codebook link: https://thinkful-ed.github.io/data-201-resources/ESS_practice_data/ESS_codebook.html\n",
    "\n",
    "CSV file link: https://raw.githubusercontent.com/Thinkful-Ed/data-201-resources/master/ESS_practice_data/ESSdata_Thinkful.csv"
   ]
  },
  {
   "cell_type": "code",
   "execution_count": 1,
   "metadata": {},
   "outputs": [],
   "source": [
    "import pandas as pd\n",
    "import numpy as np\n",
    "import matplotlib.pyplot as plt\n",
    "import scipy.stats as stats"
   ]
  },
  {
   "cell_type": "code",
   "execution_count": 2,
   "metadata": {},
   "outputs": [],
   "source": [
    "ess_df = pd.read_csv('ESSdata_Thinkful.csv')"
   ]
  },
  {
   "cell_type": "code",
   "execution_count": 3,
   "metadata": {},
   "outputs": [
    {
     "data": {
      "text/plain": [
       "(8594, 13)"
      ]
     },
     "execution_count": 3,
     "metadata": {},
     "output_type": "execute_result"
    }
   ],
   "source": [
    "ess_df.shape"
   ]
  },
  {
   "cell_type": "code",
   "execution_count": 4,
   "metadata": {},
   "outputs": [
    {
     "data": {
      "text/html": [
       "<div>\n",
       "<style scoped>\n",
       "    .dataframe tbody tr th:only-of-type {\n",
       "        vertical-align: middle;\n",
       "    }\n",
       "\n",
       "    .dataframe tbody tr th {\n",
       "        vertical-align: top;\n",
       "    }\n",
       "\n",
       "    .dataframe thead th {\n",
       "        text-align: right;\n",
       "    }\n",
       "</style>\n",
       "<table border=\"1\" class=\"dataframe\">\n",
       "  <thead>\n",
       "    <tr style=\"text-align: right;\">\n",
       "      <th></th>\n",
       "      <th>cntry</th>\n",
       "      <th>idno</th>\n",
       "      <th>year</th>\n",
       "      <th>tvtot</th>\n",
       "      <th>ppltrst</th>\n",
       "      <th>pplfair</th>\n",
       "      <th>pplhlp</th>\n",
       "      <th>happy</th>\n",
       "      <th>sclmeet</th>\n",
       "      <th>sclact</th>\n",
       "      <th>gndr</th>\n",
       "      <th>agea</th>\n",
       "      <th>partner</th>\n",
       "    </tr>\n",
       "  </thead>\n",
       "  <tbody>\n",
       "    <tr>\n",
       "      <th>0</th>\n",
       "      <td>CH</td>\n",
       "      <td>5.0</td>\n",
       "      <td>6</td>\n",
       "      <td>3.0</td>\n",
       "      <td>3.0</td>\n",
       "      <td>10.0</td>\n",
       "      <td>5.0</td>\n",
       "      <td>8.0</td>\n",
       "      <td>5.0</td>\n",
       "      <td>4.0</td>\n",
       "      <td>2.0</td>\n",
       "      <td>60.0</td>\n",
       "      <td>1.0</td>\n",
       "    </tr>\n",
       "    <tr>\n",
       "      <th>1</th>\n",
       "      <td>CH</td>\n",
       "      <td>25.0</td>\n",
       "      <td>6</td>\n",
       "      <td>6.0</td>\n",
       "      <td>5.0</td>\n",
       "      <td>7.0</td>\n",
       "      <td>5.0</td>\n",
       "      <td>9.0</td>\n",
       "      <td>3.0</td>\n",
       "      <td>2.0</td>\n",
       "      <td>2.0</td>\n",
       "      <td>59.0</td>\n",
       "      <td>1.0</td>\n",
       "    </tr>\n",
       "    <tr>\n",
       "      <th>2</th>\n",
       "      <td>CH</td>\n",
       "      <td>26.0</td>\n",
       "      <td>6</td>\n",
       "      <td>1.0</td>\n",
       "      <td>8.0</td>\n",
       "      <td>8.0</td>\n",
       "      <td>8.0</td>\n",
       "      <td>7.0</td>\n",
       "      <td>6.0</td>\n",
       "      <td>3.0</td>\n",
       "      <td>1.0</td>\n",
       "      <td>24.0</td>\n",
       "      <td>2.0</td>\n",
       "    </tr>\n",
       "  </tbody>\n",
       "</table>\n",
       "</div>"
      ],
      "text/plain": [
       "  cntry  idno  year  tvtot  ppltrst  pplfair  pplhlp  happy  sclmeet  sclact  \\\n",
       "0    CH   5.0     6    3.0      3.0     10.0     5.0    8.0      5.0     4.0   \n",
       "1    CH  25.0     6    6.0      5.0      7.0     5.0    9.0      3.0     2.0   \n",
       "2    CH  26.0     6    1.0      8.0      8.0     8.0    7.0      6.0     3.0   \n",
       "\n",
       "   gndr  agea  partner  \n",
       "0   2.0  60.0      1.0  \n",
       "1   2.0  59.0      1.0  \n",
       "2   1.0  24.0      2.0  "
      ]
     },
     "execution_count": 4,
     "metadata": {},
     "output_type": "execute_result"
    }
   ],
   "source": [
    "ess_df.head(3)"
   ]
  },
  {
   "cell_type": "markdown",
   "metadata": {},
   "source": [
    "__Question 1: Did people become less trusting from 2012 to 2014? Compute results for each country in the sample.__"
   ]
  },
  {
   "cell_type": "code",
   "execution_count": 5,
   "metadata": {},
   "outputs": [
    {
     "data": {
      "text/plain": [
       "cntry\n",
       "CH    5.714748\n",
       "CZ    4.393731\n",
       "DE    5.285714\n",
       "ES    5.004950\n",
       "NO    6.623973\n",
       "SE    6.158214\n",
       "Name: ppltrst, dtype: float64"
      ]
     },
     "execution_count": 5,
     "metadata": {},
     "output_type": "execute_result"
    }
   ],
   "source": [
    "# Trust for each country, for combined years\n",
    "ess_df.groupby('cntry')['ppltrst'].mean()"
   ]
  },
  {
   "cell_type": "code",
   "execution_count": 6,
   "metadata": {},
   "outputs": [
    {
     "data": {
      "text/plain": [
       "array([6, 7], dtype=int64)"
      ]
     },
     "execution_count": 6,
     "metadata": {},
     "output_type": "execute_result"
    }
   ],
   "source": [
    "ess_df.year.unique()"
   ]
  },
  {
   "cell_type": "markdown",
   "metadata": {},
   "source": [
    "Year 6 = 2012, year 7 = 2014"
   ]
  },
  {
   "cell_type": "code",
   "execution_count": 7,
   "metadata": {},
   "outputs": [
    {
     "data": {
      "text/html": [
       "<div>\n",
       "<style scoped>\n",
       "    .dataframe tbody tr th:only-of-type {\n",
       "        vertical-align: middle;\n",
       "    }\n",
       "\n",
       "    .dataframe tbody tr th {\n",
       "        vertical-align: top;\n",
       "    }\n",
       "\n",
       "    .dataframe thead th {\n",
       "        text-align: right;\n",
       "    }\n",
       "</style>\n",
       "<table border=\"1\" class=\"dataframe\">\n",
       "  <thead>\n",
       "    <tr style=\"text-align: right;\">\n",
       "      <th></th>\n",
       "      <th>cntry</th>\n",
       "      <th>idno</th>\n",
       "      <th>year</th>\n",
       "      <th>tvtot</th>\n",
       "      <th>ppltrst</th>\n",
       "      <th>pplfair</th>\n",
       "      <th>pplhlp</th>\n",
       "      <th>happy</th>\n",
       "      <th>sclmeet</th>\n",
       "      <th>sclact</th>\n",
       "      <th>gndr</th>\n",
       "      <th>agea</th>\n",
       "      <th>partner</th>\n",
       "    </tr>\n",
       "  </thead>\n",
       "  <tbody>\n",
       "    <tr>\n",
       "      <th>0</th>\n",
       "      <td>CH</td>\n",
       "      <td>5.0</td>\n",
       "      <td>6</td>\n",
       "      <td>3.0</td>\n",
       "      <td>3.0</td>\n",
       "      <td>10.0</td>\n",
       "      <td>5.0</td>\n",
       "      <td>8.0</td>\n",
       "      <td>5.0</td>\n",
       "      <td>4.0</td>\n",
       "      <td>2.0</td>\n",
       "      <td>60.0</td>\n",
       "      <td>1.0</td>\n",
       "    </tr>\n",
       "    <tr>\n",
       "      <th>1</th>\n",
       "      <td>CH</td>\n",
       "      <td>25.0</td>\n",
       "      <td>6</td>\n",
       "      <td>6.0</td>\n",
       "      <td>5.0</td>\n",
       "      <td>7.0</td>\n",
       "      <td>5.0</td>\n",
       "      <td>9.0</td>\n",
       "      <td>3.0</td>\n",
       "      <td>2.0</td>\n",
       "      <td>2.0</td>\n",
       "      <td>59.0</td>\n",
       "      <td>1.0</td>\n",
       "    </tr>\n",
       "    <tr>\n",
       "      <th>2</th>\n",
       "      <td>CH</td>\n",
       "      <td>26.0</td>\n",
       "      <td>6</td>\n",
       "      <td>1.0</td>\n",
       "      <td>8.0</td>\n",
       "      <td>8.0</td>\n",
       "      <td>8.0</td>\n",
       "      <td>7.0</td>\n",
       "      <td>6.0</td>\n",
       "      <td>3.0</td>\n",
       "      <td>1.0</td>\n",
       "      <td>24.0</td>\n",
       "      <td>2.0</td>\n",
       "    </tr>\n",
       "  </tbody>\n",
       "</table>\n",
       "</div>"
      ],
      "text/plain": [
       "  cntry  idno  year  tvtot  ppltrst  pplfair  pplhlp  happy  sclmeet  sclact  \\\n",
       "0    CH   5.0     6    3.0      3.0     10.0     5.0    8.0      5.0     4.0   \n",
       "1    CH  25.0     6    6.0      5.0      7.0     5.0    9.0      3.0     2.0   \n",
       "2    CH  26.0     6    1.0      8.0      8.0     8.0    7.0      6.0     3.0   \n",
       "\n",
       "   gndr  agea  partner  \n",
       "0   2.0  60.0      1.0  \n",
       "1   2.0  59.0      1.0  \n",
       "2   1.0  24.0      2.0  "
      ]
     },
     "execution_count": 7,
     "metadata": {},
     "output_type": "execute_result"
    }
   ],
   "source": [
    "# Get dataframe for 2012 only\n",
    "df_2012 = ess_df.loc[ess_df.year == 6]\n",
    "df_2012.head(3)"
   ]
  },
  {
   "cell_type": "code",
   "execution_count": 8,
   "metadata": {},
   "outputs": [
    {
     "data": {
      "text/plain": [
       "cntry\n",
       "CH    5.677878\n",
       "CZ    4.362519\n",
       "DE    5.214286\n",
       "ES    5.114592\n",
       "NO    6.649315\n",
       "SE    6.058499\n",
       "Name: ppltrst, dtype: float64"
      ]
     },
     "execution_count": 8,
     "metadata": {},
     "output_type": "execute_result"
    }
   ],
   "source": [
    "# Get mean trust for each country in 2012\n",
    "df_2012.groupby('cntry')['ppltrst'].mean()"
   ]
  },
  {
   "cell_type": "code",
   "execution_count": 9,
   "metadata": {},
   "outputs": [
    {
     "data": {
      "text/html": [
       "<div>\n",
       "<style scoped>\n",
       "    .dataframe tbody tr th:only-of-type {\n",
       "        vertical-align: middle;\n",
       "    }\n",
       "\n",
       "    .dataframe tbody tr th {\n",
       "        vertical-align: top;\n",
       "    }\n",
       "\n",
       "    .dataframe thead th {\n",
       "        text-align: right;\n",
       "    }\n",
       "</style>\n",
       "<table border=\"1\" class=\"dataframe\">\n",
       "  <thead>\n",
       "    <tr style=\"text-align: right;\">\n",
       "      <th></th>\n",
       "      <th>cntry</th>\n",
       "      <th>idno</th>\n",
       "      <th>year</th>\n",
       "      <th>tvtot</th>\n",
       "      <th>ppltrst</th>\n",
       "      <th>pplfair</th>\n",
       "      <th>pplhlp</th>\n",
       "      <th>happy</th>\n",
       "      <th>sclmeet</th>\n",
       "      <th>sclact</th>\n",
       "      <th>gndr</th>\n",
       "      <th>agea</th>\n",
       "      <th>partner</th>\n",
       "    </tr>\n",
       "  </thead>\n",
       "  <tbody>\n",
       "    <tr>\n",
       "      <th>773</th>\n",
       "      <td>CH</td>\n",
       "      <td>5.0</td>\n",
       "      <td>7</td>\n",
       "      <td>2.0</td>\n",
       "      <td>8.0</td>\n",
       "      <td>9.0</td>\n",
       "      <td>7.0</td>\n",
       "      <td>9.0</td>\n",
       "      <td>6.0</td>\n",
       "      <td>4.0</td>\n",
       "      <td>1.0</td>\n",
       "      <td>69.0</td>\n",
       "      <td>1.0</td>\n",
       "    </tr>\n",
       "    <tr>\n",
       "      <th>774</th>\n",
       "      <td>CH</td>\n",
       "      <td>25.0</td>\n",
       "      <td>7</td>\n",
       "      <td>4.0</td>\n",
       "      <td>4.0</td>\n",
       "      <td>2.0</td>\n",
       "      <td>5.0</td>\n",
       "      <td>6.0</td>\n",
       "      <td>5.0</td>\n",
       "      <td>3.0</td>\n",
       "      <td>1.0</td>\n",
       "      <td>30.0</td>\n",
       "      <td>1.0</td>\n",
       "    </tr>\n",
       "    <tr>\n",
       "      <th>775</th>\n",
       "      <td>CH</td>\n",
       "      <td>26.0</td>\n",
       "      <td>7</td>\n",
       "      <td>3.0</td>\n",
       "      <td>8.0</td>\n",
       "      <td>8.0</td>\n",
       "      <td>6.0</td>\n",
       "      <td>8.0</td>\n",
       "      <td>7.0</td>\n",
       "      <td>5.0</td>\n",
       "      <td>2.0</td>\n",
       "      <td>49.0</td>\n",
       "      <td>2.0</td>\n",
       "    </tr>\n",
       "  </tbody>\n",
       "</table>\n",
       "</div>"
      ],
      "text/plain": [
       "    cntry  idno  year  tvtot  ppltrst  pplfair  pplhlp  happy  sclmeet  \\\n",
       "773    CH   5.0     7    2.0      8.0      9.0     7.0    9.0      6.0   \n",
       "774    CH  25.0     7    4.0      4.0      2.0     5.0    6.0      5.0   \n",
       "775    CH  26.0     7    3.0      8.0      8.0     6.0    8.0      7.0   \n",
       "\n",
       "     sclact  gndr  agea  partner  \n",
       "773     4.0   1.0  69.0      1.0  \n",
       "774     3.0   1.0  30.0      1.0  \n",
       "775     5.0   2.0  49.0      2.0  "
      ]
     },
     "execution_count": 9,
     "metadata": {},
     "output_type": "execute_result"
    }
   ],
   "source": [
    "df_2014 = ess_df.loc[ess_df.year == 7]\n",
    "df_2014.head(3)"
   ]
  },
  {
   "cell_type": "code",
   "execution_count": 10,
   "metadata": {},
   "outputs": [
    {
     "data": {
      "text/plain": [
       "cntry\n",
       "CH    5.751617\n",
       "CZ    4.424658\n",
       "DE    5.357143\n",
       "ES    4.895128\n",
       "NO    6.598630\n",
       "SE    6.257709\n",
       "Name: ppltrst, dtype: float64"
      ]
     },
     "execution_count": 10,
     "metadata": {},
     "output_type": "execute_result"
    }
   ],
   "source": [
    "df_2014.groupby('cntry')['ppltrst'].mean()"
   ]
  },
  {
   "cell_type": "code",
   "execution_count": 11,
   "metadata": {},
   "outputs": [
    {
     "data": {
      "image/png": "[encoded data removed]",
      "text/plain": [
       "<Figure size 720x360 with 2 Axes>"
      ]
     },
     "metadata": {
      "needs_background": "light"
     },
     "output_type": "display_data"
    }
   ],
   "source": [
    "import seaborn as sns\n",
    "\n",
    "plt.figure(figsize=(10,5))\n",
    "plt.subplot(1,2,1)\n",
    "sns.boxplot(x='cntry', y='ppltrst', data=df_2012)\n",
    "plt.title('2012')\n",
    "\n",
    "plt.subplot(1,2,2)\n",
    "sns.boxplot(x='cntry', y='ppltrst', data=df_2014)\n",
    "plt.title('2014')\n",
    "\n",
    "plt.show()"
   ]
  },
  {
   "cell_type": "markdown",
   "metadata": {},
   "source": [
    "Overall, the results for each country appear visually and statistically similar. However, comparison tests can be used to determine if there are any significant differences."
   ]
  },
  {
   "cell_type": "code",
   "execution_count": 12,
   "metadata": {},
   "outputs": [
    {
     "data": {
      "text/plain": [
       "['CH', 'CZ', 'DE', 'ES', 'NO', 'SE']"
      ]
     },
     "execution_count": 12,
     "metadata": {},
     "output_type": "execute_result"
    }
   ],
   "source": [
    "# Get list of countries\n",
    "cntry_list = list(ess_df.cntry.unique())\n",
    "cntry_list"
   ]
  },
  {
   "cell_type": "markdown",
   "metadata": {},
   "source": [
    "Let's figure out what the distribution looks like, to understand whether or not parametric or non-parametric comparison tests should be used."
   ]
  },
  {
   "cell_type": "code",
   "execution_count": 13,
   "metadata": {},
   "outputs": [
    {
     "data": {
      "text/html": [
       "<div>\n",
       "<style scoped>\n",
       "    .dataframe tbody tr th:only-of-type {\n",
       "        vertical-align: middle;\n",
       "    }\n",
       "\n",
       "    .dataframe tbody tr th {\n",
       "        vertical-align: top;\n",
       "    }\n",
       "\n",
       "    .dataframe thead th {\n",
       "        text-align: right;\n",
       "    }\n",
       "</style>\n",
       "<table border=\"1\" class=\"dataframe\">\n",
       "  <thead>\n",
       "    <tr style=\"text-align: right;\">\n",
       "      <th></th>\n",
       "      <th>cntry</th>\n",
       "      <th>idno</th>\n",
       "      <th>year</th>\n",
       "      <th>tvtot</th>\n",
       "      <th>ppltrst</th>\n",
       "      <th>pplfair</th>\n",
       "      <th>pplhlp</th>\n",
       "      <th>happy</th>\n",
       "      <th>sclmeet</th>\n",
       "      <th>sclact</th>\n",
       "      <th>gndr</th>\n",
       "      <th>agea</th>\n",
       "      <th>partner</th>\n",
       "    </tr>\n",
       "  </thead>\n",
       "  <tbody>\n",
       "    <tr>\n",
       "      <th>0</th>\n",
       "      <td>CH</td>\n",
       "      <td>5.0</td>\n",
       "      <td>6</td>\n",
       "      <td>3.0</td>\n",
       "      <td>3.0</td>\n",
       "      <td>10.0</td>\n",
       "      <td>5.0</td>\n",
       "      <td>8.0</td>\n",
       "      <td>5.0</td>\n",
       "      <td>4.0</td>\n",
       "      <td>2.0</td>\n",
       "      <td>60.0</td>\n",
       "      <td>1.0</td>\n",
       "    </tr>\n",
       "    <tr>\n",
       "      <th>1</th>\n",
       "      <td>CH</td>\n",
       "      <td>25.0</td>\n",
       "      <td>6</td>\n",
       "      <td>6.0</td>\n",
       "      <td>5.0</td>\n",
       "      <td>7.0</td>\n",
       "      <td>5.0</td>\n",
       "      <td>9.0</td>\n",
       "      <td>3.0</td>\n",
       "      <td>2.0</td>\n",
       "      <td>2.0</td>\n",
       "      <td>59.0</td>\n",
       "      <td>1.0</td>\n",
       "    </tr>\n",
       "    <tr>\n",
       "      <th>2</th>\n",
       "      <td>CH</td>\n",
       "      <td>26.0</td>\n",
       "      <td>6</td>\n",
       "      <td>1.0</td>\n",
       "      <td>8.0</td>\n",
       "      <td>8.0</td>\n",
       "      <td>8.0</td>\n",
       "      <td>7.0</td>\n",
       "      <td>6.0</td>\n",
       "      <td>3.0</td>\n",
       "      <td>1.0</td>\n",
       "      <td>24.0</td>\n",
       "      <td>2.0</td>\n",
       "    </tr>\n",
       "    <tr>\n",
       "      <th>3</th>\n",
       "      <td>CH</td>\n",
       "      <td>28.0</td>\n",
       "      <td>6</td>\n",
       "      <td>4.0</td>\n",
       "      <td>6.0</td>\n",
       "      <td>6.0</td>\n",
       "      <td>7.0</td>\n",
       "      <td>10.0</td>\n",
       "      <td>6.0</td>\n",
       "      <td>2.0</td>\n",
       "      <td>2.0</td>\n",
       "      <td>64.0</td>\n",
       "      <td>1.0</td>\n",
       "    </tr>\n",
       "    <tr>\n",
       "      <th>4</th>\n",
       "      <td>CH</td>\n",
       "      <td>29.0</td>\n",
       "      <td>6</td>\n",
       "      <td>5.0</td>\n",
       "      <td>6.0</td>\n",
       "      <td>7.0</td>\n",
       "      <td>5.0</td>\n",
       "      <td>8.0</td>\n",
       "      <td>7.0</td>\n",
       "      <td>2.0</td>\n",
       "      <td>2.0</td>\n",
       "      <td>55.0</td>\n",
       "      <td>1.0</td>\n",
       "    </tr>\n",
       "    <tr>\n",
       "      <th>...</th>\n",
       "      <td>...</td>\n",
       "      <td>...</td>\n",
       "      <td>...</td>\n",
       "      <td>...</td>\n",
       "      <td>...</td>\n",
       "      <td>...</td>\n",
       "      <td>...</td>\n",
       "      <td>...</td>\n",
       "      <td>...</td>\n",
       "      <td>...</td>\n",
       "      <td>...</td>\n",
       "      <td>...</td>\n",
       "      <td>...</td>\n",
       "    </tr>\n",
       "    <tr>\n",
       "      <th>768</th>\n",
       "      <td>CH</td>\n",
       "      <td>2890.0</td>\n",
       "      <td>6</td>\n",
       "      <td>5.0</td>\n",
       "      <td>7.0</td>\n",
       "      <td>7.0</td>\n",
       "      <td>5.0</td>\n",
       "      <td>8.0</td>\n",
       "      <td>4.0</td>\n",
       "      <td>2.0</td>\n",
       "      <td>1.0</td>\n",
       "      <td>75.0</td>\n",
       "      <td>1.0</td>\n",
       "    </tr>\n",
       "    <tr>\n",
       "      <th>769</th>\n",
       "      <td>CH</td>\n",
       "      <td>2893.0</td>\n",
       "      <td>6</td>\n",
       "      <td>5.0</td>\n",
       "      <td>7.0</td>\n",
       "      <td>7.0</td>\n",
       "      <td>8.0</td>\n",
       "      <td>10.0</td>\n",
       "      <td>3.0</td>\n",
       "      <td>3.0</td>\n",
       "      <td>1.0</td>\n",
       "      <td>NaN</td>\n",
       "      <td>1.0</td>\n",
       "    </tr>\n",
       "    <tr>\n",
       "      <th>770</th>\n",
       "      <td>CH</td>\n",
       "      <td>2894.0</td>\n",
       "      <td>6</td>\n",
       "      <td>3.0</td>\n",
       "      <td>5.0</td>\n",
       "      <td>7.0</td>\n",
       "      <td>5.0</td>\n",
       "      <td>9.0</td>\n",
       "      <td>6.0</td>\n",
       "      <td>4.0</td>\n",
       "      <td>1.0</td>\n",
       "      <td>24.0</td>\n",
       "      <td>1.0</td>\n",
       "    </tr>\n",
       "    <tr>\n",
       "      <th>771</th>\n",
       "      <td>CH</td>\n",
       "      <td>2900.0</td>\n",
       "      <td>6</td>\n",
       "      <td>4.0</td>\n",
       "      <td>7.0</td>\n",
       "      <td>7.0</td>\n",
       "      <td>6.0</td>\n",
       "      <td>10.0</td>\n",
       "      <td>2.0</td>\n",
       "      <td>2.0</td>\n",
       "      <td>2.0</td>\n",
       "      <td>59.0</td>\n",
       "      <td>1.0</td>\n",
       "    </tr>\n",
       "    <tr>\n",
       "      <th>772</th>\n",
       "      <td>CH</td>\n",
       "      <td>2905.0</td>\n",
       "      <td>6</td>\n",
       "      <td>7.0</td>\n",
       "      <td>5.0</td>\n",
       "      <td>4.0</td>\n",
       "      <td>7.0</td>\n",
       "      <td>7.0</td>\n",
       "      <td>6.0</td>\n",
       "      <td>3.0</td>\n",
       "      <td>2.0</td>\n",
       "      <td>67.0</td>\n",
       "      <td>1.0</td>\n",
       "    </tr>\n",
       "  </tbody>\n",
       "</table>\n",
       "<p>773 rows × 13 columns</p>\n",
       "</div>"
      ],
      "text/plain": [
       "    cntry    idno  year  tvtot  ppltrst  pplfair  pplhlp  happy  sclmeet  \\\n",
       "0      CH     5.0     6    3.0      3.0     10.0     5.0    8.0      5.0   \n",
       "1      CH    25.0     6    6.0      5.0      7.0     5.0    9.0      3.0   \n",
       "2      CH    26.0     6    1.0      8.0      8.0     8.0    7.0      6.0   \n",
       "3      CH    28.0     6    4.0      6.0      6.0     7.0   10.0      6.0   \n",
       "4      CH    29.0     6    5.0      6.0      7.0     5.0    8.0      7.0   \n",
       "..    ...     ...   ...    ...      ...      ...     ...    ...      ...   \n",
       "768    CH  2890.0     6    5.0      7.0      7.0     5.0    8.0      4.0   \n",
       "769    CH  2893.0     6    5.0      7.0      7.0     8.0   10.0      3.0   \n",
       "770    CH  2894.0     6    3.0      5.0      7.0     5.0    9.0      6.0   \n",
       "771    CH  2900.0     6    4.0      7.0      7.0     6.0   10.0      2.0   \n",
       "772    CH  2905.0     6    7.0      5.0      4.0     7.0    7.0      6.0   \n",
       "\n",
       "     sclact  gndr  agea  partner  \n",
       "0       4.0   2.0  60.0      1.0  \n",
       "1       2.0   2.0  59.0      1.0  \n",
       "2       3.0   1.0  24.0      2.0  \n",
       "3       2.0   2.0  64.0      1.0  \n",
       "4       2.0   2.0  55.0      1.0  \n",
       "..      ...   ...   ...      ...  \n",
       "768     2.0   1.0  75.0      1.0  \n",
       "769     3.0   1.0   NaN      1.0  \n",
       "770     4.0   1.0  24.0      1.0  \n",
       "771     2.0   2.0  59.0      1.0  \n",
       "772     3.0   2.0  67.0      1.0  \n",
       "\n",
       "[773 rows x 13 columns]"
      ]
     },
     "execution_count": 13,
     "metadata": {},
     "output_type": "execute_result"
    }
   ],
   "source": [
    "df_2012.loc[df_2012['cntry'] == 'CH']"
   ]
  },
  {
   "cell_type": "code",
   "execution_count": 14,
   "metadata": {},
   "outputs": [
    {
     "name": "stderr",
     "output_type": "stream",
     "text": [
      "C:\\ProgramData\\Anaconda3\\lib\\site-packages\\numpy\\lib\\histograms.py:824: RuntimeWarning: invalid value encountered in greater_equal\n",
      "  keep = (tmp_a >= first_edge)\n",
      "C:\\ProgramData\\Anaconda3\\lib\\site-packages\\numpy\\lib\\histograms.py:825: RuntimeWarning: invalid value encountered in less_equal\n",
      "  keep &= (tmp_a <= last_edge)\n"
     ]
    },
    {
     "data": {
      "image/png": "[encoded data removed]",
      "text/plain": [
       "<Figure size 576x360 with 6 Axes>"
      ]
     },
     "metadata": {
      "needs_background": "light"
     },
     "output_type": "display_data"
    }
   ],
   "source": [
    "plt.figure(figsize=(8,5))\n",
    "\n",
    "for i, country in enumerate(cntry_list):\n",
    "    plt.subplot(2,3,i+1)\n",
    "    plt.hist(df_2012['ppltrst'].loc[df_2012['cntry'] == country])\n",
    "    plt.title(\"ppltrst in {}, 2012\".format(country))\n",
    "\n",
    "plt.tight_layout()\n",
    "plt.show()"
   ]
  },
  {
   "cell_type": "code",
   "execution_count": 15,
   "metadata": {},
   "outputs": [
    {
     "data": {
      "image/png": "[encoded data removed]",
      "text/plain": [
       "<Figure size 576x360 with 6 Axes>"
      ]
     },
     "metadata": {
      "needs_background": "light"
     },
     "output_type": "display_data"
    }
   ],
   "source": [
    "plt.figure(figsize=(8,5))\n",
    "\n",
    "for i, country in enumerate(cntry_list):\n",
    "    plt.subplot(2,3,i+1)\n",
    "    plt.hist(df_2014['ppltrst'].loc[df_2014['cntry'] == country])\n",
    "    plt.title(\"ppltrst in {}, 2014\".format(country))\n",
    "\n",
    "plt.tight_layout()\n",
    "plt.show()"
   ]
  },
  {
   "cell_type": "markdown",
   "metadata": {},
   "source": [
    "Distribution visually appears to be close enough to normal to perform parametric testing. Distributions that appear overly non-normal are likely the result of a smaller sample size."
   ]
  },
  {
   "cell_type": "code",
   "execution_count": 16,
   "metadata": {},
   "outputs": [
    {
     "name": "stdout",
     "output_type": "stream",
     "text": [
      "4297 4297\n"
     ]
    }
   ],
   "source": [
    "print(df_2012.shape[0], df_2014.shape[0])"
   ]
  },
  {
   "cell_type": "markdown",
   "metadata": {},
   "source": [
    "Assuming that the same people were used for both years, given the exact same number of particpants for both years, we will perform a pair-wise t-test using SciPy stats."
   ]
  },
  {
   "cell_type": "code",
   "execution_count": 17,
   "metadata": {},
   "outputs": [
    {
     "name": "stdout",
     "output_type": "stream",
     "text": [
      "Ttest_relResult(statistic=-0.6586851756725737, pvalue=0.5102943511301135)\n",
      "Ttest_relResult(statistic=nan, pvalue=nan)\n",
      "Ttest_relResult(statistic=-0.18399501804849683, pvalue=0.8568563797095805)\n",
      "Ttest_relResult(statistic=nan, pvalue=nan)\n",
      "Ttest_relResult(statistic=nan, pvalue=nan)\n",
      "Ttest_relResult(statistic=nan, pvalue=nan)\n"
     ]
    },
    {
     "name": "stderr",
     "output_type": "stream",
     "text": [
      "C:\\Users\\Jacob Knopping\\AppData\\Roaming\\Python\\Python37\\site-packages\\scipy\\stats\\_distn_infrastructure.py:903: RuntimeWarning: invalid value encountered in greater\n",
      "  return (a < x) & (x < b)\n",
      "C:\\Users\\Jacob Knopping\\AppData\\Roaming\\Python\\Python37\\site-packages\\scipy\\stats\\_distn_infrastructure.py:903: RuntimeWarning: invalid value encountered in less\n",
      "  return (a < x) & (x < b)\n",
      "C:\\Users\\Jacob Knopping\\AppData\\Roaming\\Python\\Python37\\site-packages\\scipy\\stats\\_distn_infrastructure.py:1912: RuntimeWarning: invalid value encountered in less_equal\n",
      "  cond2 = cond0 & (x <= _a)\n"
     ]
    }
   ],
   "source": [
    "# For each country, perform pair-wise t-test\n",
    "for country in (cntry_list):\n",
    "    print(stats.ttest_rel(df_2012['ppltrst'].loc[df_2012['cntry'] == country],\n",
    "                         df_2014['ppltrst'].loc[df_2014['cntry'] == country]))\n"
   ]
  },
  {
   "cell_type": "markdown",
   "metadata": {},
   "source": [
    "It looks like missing values are causing 'nan' values, so let's fill in the missng values and try again."
   ]
  },
  {
   "cell_type": "code",
   "execution_count": 18,
   "metadata": {},
   "outputs": [
    {
     "data": {
      "text/plain": [
       "cntry        0\n",
       "idno         0\n",
       "year         0\n",
       "tvtot        6\n",
       "ppltrst     10\n",
       "pplfair     20\n",
       "pplhlp      15\n",
       "happy       21\n",
       "sclmeet      9\n",
       "sclact      46\n",
       "gndr         0\n",
       "agea       126\n",
       "partner      7\n",
       "dtype: int64"
      ]
     },
     "execution_count": 18,
     "metadata": {},
     "output_type": "execute_result"
    }
   ],
   "source": [
    "df_2012.isnull().sum()"
   ]
  },
  {
   "cell_type": "code",
   "execution_count": 19,
   "metadata": {},
   "outputs": [],
   "source": [
    "# Fill missing data with the mean\n",
    "df_2012 = df_2012.fillna(df_2012.mean())\n",
    "df_2014 = df_2014.fillna(df_2012.mean())"
   ]
  },
  {
   "cell_type": "code",
   "execution_count": 20,
   "metadata": {},
   "outputs": [
    {
     "name": "stdout",
     "output_type": "stream",
     "text": [
      "CH:\n",
      " Ttest_relResult(statistic=-0.6586851756725737, pvalue=0.5102943511301135)\n",
      "CZ:\n",
      " Ttest_relResult(statistic=-0.3804542045224136, pvalue=0.7037312554831489)\n",
      "DE:\n",
      " Ttest_relResult(statistic=-0.18399501804849683, pvalue=0.8568563797095805)\n",
      "ES:\n",
      " Ttest_relResult(statistic=2.473526447545717, pvalue=0.013514932435663018)\n",
      "NO:\n",
      " Ttest_relResult(statistic=0.5359631183350579, pvalue=0.5921473023604757)\n",
      "SE:\n",
      " Ttest_relResult(statistic=-2.0878594220425235, pvalue=0.03708901921114203)\n"
     ]
    }
   ],
   "source": [
    "# For each country, perform pair-wise t-test\n",
    "for country in (cntry_list):\n",
    "    print(\"{}:\\n\".format(country),\n",
    "        stats.ttest_rel(df_2012['ppltrst'].loc[df_2012['cntry'] == country],\n",
    "        df_2014['ppltrst'].loc[df_2014['cntry'] == country]))\n"
   ]
  },
  {
   "cell_type": "markdown",
   "metadata": {},
   "source": [
    "According to the t-tests (pair-wise), the only countries that saw a change in trust that was significantly different were Spain, or 'ES' (decrease in trust) and Sweden, or 'SE' (increase in trust). This is to say the null hypothesis (no difference between trust for each year) is rejected. This was of course with the assumption that a pair-wise t-test was more appropriate in this situation. For the sake of thoroughness, let's see if the results of an independent t-test are any different."
   ]
  },
  {
   "cell_type": "code",
   "execution_count": 21,
   "metadata": {},
   "outputs": [
    {
     "name": "stdout",
     "output_type": "stream",
     "text": [
      "CH:\n",
      " Ttest_indResult(statistic=-0.6782716584661505, pvalue=0.49770110247151234)\n",
      "CZ:\n",
      " Ttest_indResult(statistic=-0.39395945807651794, pvalue=0.6936748927882519)\n",
      "DE:\n",
      " Ttest_indResult(statistic=-0.18084358577434545, pvalue=0.8578926631223287)\n",
      "ES:\n",
      " Ttest_indResult(statistic=2.4837112910199832, pvalue=0.013069225372914025)\n",
      "NO:\n",
      " Ttest_indResult(statistic=0.5436352898756369, pvalue=0.5867754671861539)\n",
      "SE:\n",
      " Ttest_indResult(statistic=-2.102858056828469, pvalue=0.03561563543342475)\n"
     ]
    }
   ],
   "source": [
    "# For each country, perform t-test for independent groups\n",
    "for country in (cntry_list):\n",
    "    print(\"{}:\\n\".format(country),\n",
    "        stats.ttest_ind(df_2012['ppltrst'].loc[df_2012['cntry'] == country],\n",
    "        df_2014['ppltrst'].loc[df_2014['cntry'] == country]))"
   ]
  },
  {
   "cell_type": "markdown",
   "metadata": {},
   "source": [
    "The results are the same: Spain saw a signicant decrease in trust for 2012 to 2014, while Swedent saw an increase in trust over the same time period."
   ]
  },
  {
   "cell_type": "markdown",
   "metadata": {},
   "source": [
    "__Question 2: Did people become happier from 2012 to 2014? Compute results for each country in the sample.__"
   ]
  },
  {
   "cell_type": "code",
   "execution_count": 22,
   "metadata": {},
   "outputs": [
    {
     "data": {
      "image/png": "[encoded data removed]",
      "text/plain": [
       "<Figure size 576x360 with 6 Axes>"
      ]
     },
     "metadata": {
      "needs_background": "light"
     },
     "output_type": "display_data"
    }
   ],
   "source": [
    "plt.figure(figsize=(8,5))\n",
    "\n",
    "for i, country in enumerate(cntry_list):\n",
    "    plt.subplot(2,3,i+1)\n",
    "    plt.hist(df_2012['happy'].loc[df_2012['cntry'] == country])\n",
    "    plt.title(\"happy in {}, 2012\".format(country))\n",
    "\n",
    "plt.tight_layout()\n",
    "plt.show()"
   ]
  },
  {
   "cell_type": "code",
   "execution_count": 23,
   "metadata": {},
   "outputs": [
    {
     "data": {
      "image/png": "[encoded data removed]",
      "text/plain": [
       "<Figure size 576x360 with 6 Axes>"
      ]
     },
     "metadata": {
      "needs_background": "light"
     },
     "output_type": "display_data"
    }
   ],
   "source": [
    "plt.figure(figsize=(8,5))\n",
    "\n",
    "for i, country in enumerate(cntry_list):\n",
    "    plt.subplot(2,3,i+1)\n",
    "    plt.hist(df_2014['happy'].loc[df_2014['cntry'] == country])\n",
    "    plt.title(\"happy in {}, 2014\".format(country))\n",
    "\n",
    "plt.tight_layout()\n",
    "plt.show()"
   ]
  },
  {
   "cell_type": "markdown",
   "metadata": {},
   "source": [
    "The distributions all appear to be skewed to the left; people report being happy much more frequently than netrual or unhappy. Given that this is not a normal distribution, a non-parametric comparison might be better in this case. We will peform as Kruskal-Wallace test, rather than a t-test."
   ]
  },
  {
   "cell_type": "code",
   "execution_count": 24,
   "metadata": {},
   "outputs": [
    {
     "name": "stdout",
     "output_type": "stream",
     "text": [
      "CH:\n",
      " KruskalResult(statistic=0.290200214764067, pvalue=0.5900922565247079)\n",
      "CZ:\n",
      " KruskalResult(statistic=1.3893709654023114, pvalue=0.23851135722247688)\n",
      "DE:\n",
      " KruskalResult(statistic=0.39056749122656015, pvalue=0.532001255058662)\n",
      "ES:\n",
      " KruskalResult(statistic=4.08599866595559, pvalue=0.04323989176550507)\n",
      "NO:\n",
      " KruskalResult(statistic=18.352664983589847, pvalue=1.8356204614283526e-05)\n",
      "SE:\n",
      " KruskalResult(statistic=0.038560589039303116, pvalue=0.8443217471247867)\n"
     ]
    }
   ],
   "source": [
    "#Kruskal-Wallace test using scipy stats\n",
    "\n",
    "for country in (cntry_list):\n",
    "    print(\"{}:\\n\".format(country),\n",
    "        stats.kruskal(df_2012['happy'].loc[df_2012['cntry'] == country],\n",
    "        df_2014['happy'].loc[df_2014['cntry'] == country]))"
   ]
  },
  {
   "cell_type": "code",
   "execution_count": 25,
   "metadata": {},
   "outputs": [
    {
     "name": "stdout",
     "output_type": "stream",
     "text": [
      "CH:\n",
      " Ttest_relResult(statistic=-0.4045884706639427, pvalue=0.6858921044617527)\n",
      "CZ:\n",
      " Ttest_relResult(statistic=-1.2162943702781523, pvalue=0.2243095983603843)\n",
      "DE:\n",
      " Ttest_relResult(statistic=-0.8062257748298549, pvalue=0.4346138707734991)\n",
      "ES:\n",
      " Ttest_relResult(statistic=1.6346420251894398, pvalue=0.10238379498151123)\n",
      "NO:\n",
      " Ttest_relResult(statistic=4.221670109393773, pvalue=2.7310755622411475e-05)\n",
      "SE:\n",
      " Ttest_relResult(statistic=-0.5651795499883743, pvalue=0.5720914113040425)\n"
     ]
    }
   ],
   "source": [
    "# T-test for comparison, if the distribution were more normal\n",
    "\n",
    "for country in (cntry_list):\n",
    "    print(\"{}:\\n\".format(country),\n",
    "        stats.ttest_rel(df_2012['happy'].loc[df_2012['cntry'] == country],\n",
    "        df_2014['happy'].loc[df_2014['cntry'] == country]))"
   ]
  },
  {
   "cell_type": "markdown",
   "metadata": {},
   "source": [
    "According to the Kruskal-Wallace comparison test, the null hypothesis (there would no difference in happiness between 2012 and 2014 for each country) is rejected for Spain('ES'), and Norway('NO'), with an alpha value of 0.05. \n",
    "\n",
    "**Note that using a t-test would not reject the null hypothesis for Spain, so choosing the correct comparison test is important here"
   ]
  },
  {
   "cell_type": "code",
   "execution_count": 26,
   "metadata": {},
   "outputs": [
    {
     "data": {
      "text/plain": [
       "cntry\n",
       "CH    8.086896\n",
       "CZ    6.788272\n",
       "DE    7.428571\n",
       "ES    7.548824\n",
       "NO    8.248829\n",
       "SE    7.907185\n",
       "Name: happy, dtype: float64"
      ]
     },
     "execution_count": 26,
     "metadata": {},
     "output_type": "execute_result"
    }
   ],
   "source": [
    "df_2012.groupby('cntry')['happy'].mean()"
   ]
  },
  {
   "cell_type": "code",
   "execution_count": 27,
   "metadata": {},
   "outputs": [
    {
     "data": {
      "text/plain": [
       "cntry\n",
       "CH    8.116429\n",
       "CZ    6.921492\n",
       "DE    7.857143\n",
       "ES    7.420217\n",
       "NO    7.915185\n",
       "SE    7.946223\n",
       "Name: happy, dtype: float64"
      ]
     },
     "execution_count": 27,
     "metadata": {},
     "output_type": "execute_result"
    }
   ],
   "source": [
    "df_2014.groupby('cntry')['happy'].mean()"
   ]
  },
  {
   "cell_type": "markdown",
   "metadata": {},
   "source": [
    "While some countries saw an increase in happiness, like the Czech Republic ('CZ'), none of those increases were statisically significant. The only statiscally significant changes were for Norway and Spain, which saw a significant decrease in happiness from 2012 to 2014."
   ]
  },
  {
   "cell_type": "markdown",
   "metadata": {},
   "source": [
    "__Question 3: Who reported watching more TV in 2012, men or women?__"
   ]
  },
  {
   "cell_type": "code",
   "execution_count": 28,
   "metadata": {},
   "outputs": [
    {
     "data": {
      "text/plain": [
       "gndr\n",
       "1.0    3.901936\n",
       "2.0    3.944363\n",
       "Name: tvtot, dtype: float64"
      ]
     },
     "execution_count": 28,
     "metadata": {},
     "output_type": "execute_result"
    }
   ],
   "source": [
    "#1 = male, 2 = female\n",
    "df_2012.groupby('gndr')['tvtot'].mean()"
   ]
  },
  {
   "cell_type": "code",
   "execution_count": 29,
   "metadata": {},
   "outputs": [
    {
     "data": {
      "text/plain": [
       "Ttest_indResult(statistic=-0.6899929757537578, pvalue=0.49023588447282207)"
      ]
     },
     "execution_count": 29,
     "metadata": {},
     "output_type": "execute_result"
    }
   ],
   "source": [
    "# Male and female are two independent groups, use independent t-test\n",
    "stats.ttest_ind(df_2012['tvtot'].loc[df_2012['gndr'] == 1.0],\n",
    "               df_2012['tvtot'].loc[df_2012['gndr'] == 2.0])"
   ]
  },
  {
   "cell_type": "markdown",
   "metadata": {},
   "source": [
    "While the mean for females watching tv is marginally higher (3.94, versus 3.90 for males), there is no statistical significance to this difference. The p-value for the t-test is greater than alpha (=.05), so the null hypothesis (there is no difference between the male and female population) fails to be rejected."
   ]
  },
  {
   "cell_type": "markdown",
   "metadata": {},
   "source": [
    "__Question 4: Who was more likely to believe people were fair in 2012, people living with a partner or people living alone?__"
   ]
  },
  {
   "cell_type": "code",
   "execution_count": 30,
   "metadata": {},
   "outputs": [
    {
     "data": {
      "text/plain": [
       "partner\n",
       "1.00000    6.080395\n",
       "1.37669    6.856842\n",
       "2.00000    5.857663\n",
       "Name: pplfair, dtype: float64"
      ]
     },
     "execution_count": 30,
     "metadata": {},
     "output_type": "execute_result"
    }
   ],
   "source": [
    "# 1 = lives with partner, 2 = lives alone\n",
    "df_2012.groupby('partner')['pplfair'].mean()"
   ]
  },
  {
   "cell_type": "markdown",
   "metadata": {},
   "source": [
    "1.38 represents the mean used to fill missing data, ignore."
   ]
  },
  {
   "cell_type": "code",
   "execution_count": 31,
   "metadata": {},
   "outputs": [
    {
     "data": {
      "text/plain": [
       "Ttest_indResult(statistic=3.319724959187467, pvalue=0.0009085893209899276)"
      ]
     },
     "execution_count": 31,
     "metadata": {},
     "output_type": "execute_result"
    }
   ],
   "source": [
    "stats.ttest_ind(df_2012['pplfair'].loc[df_2012['partner'] == 1.0],\n",
    "               df_2012['pplfair'].loc[df_2012['partner'] == 2.0])"
   ]
  },
  {
   "cell_type": "markdown",
   "metadata": {},
   "source": [
    "People living with a partner (husband/wife/partner at household grid) were more likely to belive people were fair in 2012, and this difference was significantly different."
   ]
  },
  {
   "cell_type": "markdown",
   "metadata": {},
   "source": [
    "__Question 5: Pick three or four of the countries in the sample and compare how often people met socially in 2014. Are there differences, and if so, which countries stand out?__"
   ]
  },
  {
   "cell_type": "markdown",
   "metadata": {},
   "source": [
    "To compare differences between multiple groups (countries), a one-way ANOVA test is appropriate."
   ]
  },
  {
   "cell_type": "code",
   "execution_count": 32,
   "metadata": {},
   "outputs": [
    {
     "data": {
      "text/plain": [
       "0.024041227015691235"
      ]
     },
     "execution_count": 32,
     "metadata": {},
     "output_type": "execute_result"
    }
   ],
   "source": [
    "# One-way ANOVA\n",
    "\n",
    "F, p = stats.f_oneway(\n",
    "    df_2014['sclmeet'].loc[df_2014['cntry'] == 'ES'],\n",
    "    df_2014['sclmeet'].loc[df_2014['cntry'] == 'SE'],\n",
    "    df_2014['sclmeet'].loc[df_2014['cntry'] == 'NO']\n",
    ")\n",
    "\n",
    "p"
   ]
  },
  {
   "cell_type": "markdown",
   "metadata": {},
   "source": [
    "Yes, there are differences in how often people met socially in 2014 for these countries (p value < 0.05)."
   ]
  },
  {
   "cell_type": "code",
   "execution_count": 33,
   "metadata": {},
   "outputs": [
    {
     "name": "stdout",
     "output_type": "stream",
     "text": [
      "Ttest_indResult(statistic=-2.6525904036682015, pvalue=0.008047277169946321)\n",
      "Ttest_indResult(statistic=1.8305856428076237, pvalue=0.06734412432597783)\n",
      "Ttest_indResult(statistic=-0.6342432361177603, pvalue=0.5259967960508687)\n"
     ]
    }
   ],
   "source": [
    "print(stats.ttest_ind(df_2014['sclmeet'].loc[df_2014['cntry'] == 'ES'],\n",
    "df_2014['sclmeet'].loc[df_2014['cntry'] == 'SE']))\n",
    "print(stats.ttest_ind(df_2014['sclmeet'].loc[df_2014['cntry'] == 'SE'],\n",
    "df_2014['sclmeet'].loc[df_2014['cntry'] == 'NO']))\n",
    "print(stats.ttest_ind(df_2014['sclmeet'].loc[df_2014['cntry'] == 'ES'],\n",
    "df_2014['sclmeet'].loc[df_2014['cntry'] == 'NO']))"
   ]
  },
  {
   "cell_type": "markdown",
   "metadata": {},
   "source": [
    "With an alpha value of 0.05, the only significant difference is between Spain and Sweden."
   ]
  },
  {
   "cell_type": "code",
   "execution_count": 34,
   "metadata": {},
   "outputs": [
    {
     "name": "stdout",
     "output_type": "stream",
     "text": [
      "Spain: 5.2600620147408055\n",
      "Sweden: 5.426211453744493\n"
     ]
    }
   ],
   "source": [
    "print(\"Spain:\", df_2014['sclmeet'].loc[df_2014['cntry'] == 'ES'].mean())\n",
    "print(\"Sweden:\", df_2014['sclmeet'].loc[df_2014['cntry'] == 'SE'].mean())"
   ]
  },
  {
   "cell_type": "markdown",
   "metadata": {},
   "source": [
    "People met socially more often in Sweden than Spain, and this difference was statistically significant."
   ]
  },
  {
   "cell_type": "markdown",
   "metadata": {},
   "source": [
    "__Question 6: Pick three or four of the countries in the sample and compare how often people took part in social activities, relative to others their age, in 2014. Are there differences, and if so, which countries stand out?__"
   ]
  },
  {
   "cell_type": "markdown",
   "metadata": {},
   "source": [
    "The variable for this is 'sclact': take part in social activities compared to others of same age."
   ]
  },
  {
   "cell_type": "code",
   "execution_count": 35,
   "metadata": {},
   "outputs": [
    {
     "data": {
      "text/plain": [
       "1.146508364432382e-12"
      ]
     },
     "execution_count": 35,
     "metadata": {},
     "output_type": "execute_result"
    }
   ],
   "source": [
    "# One-way ANOVA\n",
    "\n",
    "F, p = stats.f_oneway(\n",
    "    df_2014['sclact'].loc[df_2014['cntry'] == 'ES'],\n",
    "    df_2014['sclact'].loc[df_2014['cntry'] == 'SE'],\n",
    "    df_2014['sclact'].loc[df_2014['cntry'] == 'NO']\n",
    ")\n",
    "\n",
    "p"
   ]
  },
  {
   "cell_type": "markdown",
   "metadata": {},
   "source": [
    "Yes, there was a significant difference in how often people took part in social activities, relative to others their age, in 2014."
   ]
  },
  {
   "cell_type": "code",
   "execution_count": 36,
   "metadata": {},
   "outputs": [
    {
     "name": "stdout",
     "output_type": "stream",
     "text": [
      "Ttest_indResult(statistic=-6.503359447113637, pvalue=9.768375114389585e-11)\n",
      "Ttest_indResult(statistic=0.4687981718829239, pvalue=0.6392763281322797)\n",
      "Ttest_indResult(statistic=-5.669567670830333, pvalue=1.6461650315159042e-08)\n"
     ]
    }
   ],
   "source": [
    "print(stats.ttest_ind(df_2014['sclact'].loc[df_2014['cntry'] == 'ES'],\n",
    "df_2014['sclact'].loc[df_2014['cntry'] == 'SE']))\n",
    "print(stats.ttest_ind(df_2014['sclact'].loc[df_2014['cntry'] == 'SE'],\n",
    "df_2014['sclact'].loc[df_2014['cntry'] == 'NO']))\n",
    "print(stats.ttest_ind(df_2014['sclact'].loc[df_2014['cntry'] == 'ES'],\n",
    "df_2014['sclact'].loc[df_2014['cntry'] == 'NO']))"
   ]
  },
  {
   "cell_type": "markdown",
   "metadata": {},
   "source": [
    "There is a statistically significant difference between Spain and Sweden, and Spain and Norway."
   ]
  },
  {
   "cell_type": "code",
   "execution_count": 37,
   "metadata": {},
   "outputs": [
    {
     "name": "stdout",
     "output_type": "stream",
     "text": [
      "Spain: 2.6197265451143554\n",
      "Sweden: 2.878811878417827\n",
      "Norway: 2.859097127222982\n"
     ]
    }
   ],
   "source": [
    "print(\"Spain:\", df_2014['sclact'].loc[df_2014['cntry'] == 'ES'].mean())\n",
    "print(\"Sweden:\", df_2014['sclact'].loc[df_2014['cntry'] == 'SE'].mean())\n",
    "print(\"Norway:\", df_2014['sclact'].loc[df_2014['cntry'] == 'NO'].mean())"
   ]
  },
  {
   "cell_type": "markdown",
   "metadata": {},
   "source": [
    "The only difference in how often people took part in social activities, relative to others their age, in 2014, that was no significant was Sweden and Norway. This makes sense has the mean for this category for both countries is very similar (2.88 and 2.86, respectively)."
   ]
  }
 ],
 "metadata": {
  "kernelspec": {
   "display_name": "Python 3",
   "language": "python",
   "name": "python3"
  },
  "language_info": {
   "codemirror_mode": {
    "name": "ipython",
    "version": 3
   },
   "file_extension": ".py",
   "mimetype": "text/x-python",
   "name": "python",
   "nbconvert_exporter": "python",
   "pygments_lexer": "ipython3",
   "version": "3.7.4"
  }
 },
 "nbformat": 4,
 "nbformat_minor": 2
}
