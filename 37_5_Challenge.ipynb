{
  "nbformat": 4,
  "nbformat_minor": 0,
  "metadata": {
    "colab": {
      "name": "37.5 Challenge.ipynb",
      "provenance": []
    },
    "kernelspec": {
      "name": "python3",
      "display_name": "Python 3"
    }
  },
  "cells": [
    {
      "cell_type": "markdown",
      "metadata": {
        "id": "Z2NOokrH4StM",
        "colab_type": "text"
      },
      "source": [
        "### __37.5 Challenge: sentiment analysis for Amazon reviews__"
      ]
    },
    {
      "cell_type": "markdown",
      "metadata": {
        "id": "BV4gM6Wt40n6",
        "colab_type": "text"
      },
      "source": [
        "Spark and Colaboratory setup"
      ]
    },
    {
      "cell_type": "code",
      "metadata": {
        "id": "IERPJo363AGD",
        "colab_type": "code",
        "colab": {}
      },
      "source": [
        "!apt-get install openjdk-8-jdk-headless -qq > /dev/null\n",
        "!wget -q https://www-us.apache.org/dist/spark/spark-2.4.5/spark-2.4.5-bin-hadoop2.7.tgz\n",
        "!tar xf spark-2.4.5-bin-hadoop2.7.tgz"
      ],
      "execution_count": 0,
      "outputs": []
    },
    {
      "cell_type": "code",
      "metadata": {
        "id": "-N3nbAIS4-8n",
        "colab_type": "code",
        "colab": {
          "base_uri": "https://localhost:8080/",
          "height": 51
        },
        "outputId": "a68c279c-73a2-49f3-d8fb-6380508c2bd7"
      },
      "source": [
        "# Install spark-related depdencies for Python\n",
        "!pip install -q findspark\n",
        "!pip install pyspark"
      ],
      "execution_count": 6,
      "outputs": [
        {
          "output_type": "stream",
          "text": [
            "Requirement already satisfied: pyspark in /usr/local/lib/python3.6/dist-packages (2.4.5)\n",
            "Requirement already satisfied: py4j==0.10.7 in /usr/local/lib/python3.6/dist-packages (from pyspark) (0.10.7)\n"
          ],
          "name": "stdout"
        }
      ]
    },
    {
      "cell_type": "code",
      "metadata": {
        "id": "VVzqFcjA5AMf",
        "colab_type": "code",
        "colab": {}
      },
      "source": [
        "# Set up required environment variables\n",
        "\n",
        "import os\n",
        "os.environ[\"JAVA_HOME\"] = \"/usr/lib/jvm/java-8-openjdk-amd64\"\n",
        "os.environ[\"SPARK_HOME\"] = \"/content/spark-2.4.5-bin-hadoop2.7\""
      ],
      "execution_count": 0,
      "outputs": []
    },
    {
      "cell_type": "code",
      "metadata": {
        "id": "58ZszFgq5CWG",
        "colab_type": "code",
        "colab": {
          "base_uri": "https://localhost:8080/",
          "height": 34
        },
        "outputId": "05b220a9-a570-4c6a-ed9a-be2a6dc6a146"
      },
      "source": [
        "# Point Colaboratory to Google Drive\n",
        "\n",
        "from google.colab import drive\n",
        "drive.mount('/content/gdrive')"
      ],
      "execution_count": 8,
      "outputs": [
        {
          "output_type": "stream",
          "text": [
            "Drive already mounted at /content/gdrive; to attempt to forcibly remount, call drive.mount(\"/content/gdrive\", force_remount=True).\n"
          ],
          "name": "stdout"
        }
      ]
    },
    {
      "cell_type": "markdown",
      "metadata": {
        "id": "6-dX_kCl5IKg",
        "colab_type": "text"
      },
      "source": [
        "Import depedencies"
      ]
    },
    {
      "cell_type": "code",
      "metadata": {
        "id": "-9VisffY5D5A",
        "colab_type": "code",
        "colab": {}
      },
      "source": [
        "from pyspark import SparkContext\n",
        "from pyspark.sql import SparkSession, SQLContext\n",
        "\n",
        "from pyspark.sql.functions import UserDefinedFunction\n",
        "from pyspark.sql.types import IntegerType\n",
        "\n",
        "from pyspark.ml.feature import Tokenizer, Word2Vec\n",
        "\n",
        "# these imports are how we build and manage our data science processes: cleaning data, preparing a model,\n",
        "# executing the model, and evaluating the model\n",
        "from pyspark.ml import Pipeline\n",
        "from pyspark.ml.classification import RandomForestClassifier\n",
        "from pyspark.ml.feature import IndexToString, StringIndexer, VectorIndexer, VectorAssembler\n",
        "from pyspark.ml.evaluation import MulticlassClassificationEvaluator\n",
        "from pyspark.mllib.evaluation import BinaryClassificationMetrics\n",
        "\n",
        "from matplotlib import pyplot as plt\n",
        "import numpy as np\n",
        "import functools\n",
        "%matplotlib inline"
      ],
      "execution_count": 0,
      "outputs": []
    },
    {
      "cell_type": "markdown",
      "metadata": {
        "id": "3gzQ5FCr8Iz0",
        "colab_type": "text"
      },
      "source": [
        "Set constants"
      ]
    },
    {
      "cell_type": "code",
      "metadata": {
        "id": "XOkV_wT87tLW",
        "colab_type": "code",
        "colab": {}
      },
      "source": [
        "JSON_PATH = \"/content/gdrive/My Drive/Thinkful-DataScience/Google Colaboratory/Colab Datasets/AmznInstantVideo.json\" \n",
        "#DATA_NAME = \"AmznInstantVideo.json\"\n",
        "APP_NAME = \"Sentiment Analysis for Amazon Reviews\"\n",
        "SPARK_URL = \"local[*]\"\n",
        "RANDOM_SEED = 141107\n",
        "TRAINING_DATA_RATIO = 0.8\n",
        "RF_NUM_TREES = 10\n",
        "RF_MAX_DEPTH = 4\n",
        "RF_NUM_BINS = 32"
      ],
      "execution_count": 0,
      "outputs": []
    },
    {
      "cell_type": "code",
      "metadata": {
        "id": "tT979Ypc866E",
        "colab_type": "code",
        "colab": {}
      },
      "source": [
        "#The first thing we always do is create a SparkContext, and then immediately afterward \n",
        "#create a sqlContext to be able to load and manipulate an RDD/dataframe.\n",
        "sc = SparkSession.builder.appName(APP_NAME).master(SPARK_URL).getOrCreate()\n",
        "sqlContext = SQLContext(sc)"
      ],
      "execution_count": 0,
      "outputs": []
    },
    {
      "cell_type": "markdown",
      "metadata": {
        "id": "OFG4yrot9bwE",
        "colab_type": "text"
      },
      "source": [
        "Load data"
      ]
    },
    {
      "cell_type": "code",
      "metadata": {
        "id": "EBk8Xx9C9an3",
        "colab_type": "code",
        "colab": {}
      },
      "source": [
        "#Now that we've connected to Spark and have a sqlContext ready, it's time to \n",
        "#load our data.\n",
        "amazon_df = sc.read.options(inferschema = 'true').json(JSON_PATH)"
      ],
      "execution_count": 0,
      "outputs": []
    },
    {
      "cell_type": "code",
      "metadata": {
        "id": "lt5OXuu8_7m5",
        "colab_type": "code",
        "colab": {
          "base_uri": "https://localhost:8080/",
          "height": 221
        },
        "outputId": "bee6a9d9-0d10-4779-fb51-a1befec6c64c"
      },
      "source": [
        "amazon_df.printSchema()"
      ],
      "execution_count": 16,
      "outputs": [
        {
          "output_type": "stream",
          "text": [
            "root\n",
            " |-- asin: string (nullable = true)\n",
            " |-- helpful: array (nullable = true)\n",
            " |    |-- element: long (containsNull = true)\n",
            " |-- overall: double (nullable = true)\n",
            " |-- reviewText: string (nullable = true)\n",
            " |-- reviewTime: string (nullable = true)\n",
            " |-- reviewerID: string (nullable = true)\n",
            " |-- reviewerName: string (nullable = true)\n",
            " |-- summary: string (nullable = true)\n",
            " |-- unixReviewTime: long (nullable = true)\n",
            "\n"
          ],
          "name": "stdout"
        }
      ]
    },
    {
      "cell_type": "code",
      "metadata": {
        "id": "ycmwdMBLEO5q",
        "colab_type": "code",
        "colab": {
          "base_uri": "https://localhost:8080/",
          "height": 34
        },
        "outputId": "5c18ce5f-4ba5-48f3-c34d-fcff13cac3a9"
      },
      "source": [
        "print(f\"Dataset shape is {amazon_df.count():d} rows by {len(amazon_df.columns):d} columns.\")"
      ],
      "execution_count": 31,
      "outputs": [
        {
          "output_type": "stream",
          "text": [
            "Dataset shape is 37121 rows by 9 columns.\n"
          ],
          "name": "stdout"
        }
      ]
    },
    {
      "cell_type": "code",
      "metadata": {
        "id": "SJb9cpIZBnts",
        "colab_type": "code",
        "colab": {
          "base_uri": "https://localhost:8080/",
          "height": 547
        },
        "outputId": "ccbe5da1-c45f-46fd-9563-ba11507ef5dd"
      },
      "source": [
        "import pandas as pd\n",
        "pd.DataFrame(amazon_df.head(5), columns=amazon_df.columns)"
      ],
      "execution_count": 22,
      "outputs": [
        {
          "output_type": "execute_result",
          "data": {
            "text/html": [
              "<div>\n",
              "<style scoped>\n",
              "    .dataframe tbody tr th:only-of-type {\n",
              "        vertical-align: middle;\n",
              "    }\n",
              "\n",
              "    .dataframe tbody tr th {\n",
              "        vertical-align: top;\n",
              "    }\n",
              "\n",
              "    .dataframe thead th {\n",
              "        text-align: right;\n",
              "    }\n",
              "</style>\n",
              "<table border=\"1\" class=\"dataframe\">\n",
              "  <thead>\n",
              "    <tr style=\"text-align: right;\">\n",
              "      <th></th>\n",
              "      <th>asin</th>\n",
              "      <th>helpful</th>\n",
              "      <th>overall</th>\n",
              "      <th>reviewText</th>\n",
              "      <th>reviewTime</th>\n",
              "      <th>reviewerID</th>\n",
              "      <th>reviewerName</th>\n",
              "      <th>summary</th>\n",
              "      <th>unixReviewTime</th>\n",
              "    </tr>\n",
              "  </thead>\n",
              "  <tbody>\n",
              "    <tr>\n",
              "      <th>0</th>\n",
              "      <td>B000H00VBQ</td>\n",
              "      <td>[0, 0]</td>\n",
              "      <td>2.0</td>\n",
              "      <td>I had big expectations because I love English ...</td>\n",
              "      <td>05 3, 2014</td>\n",
              "      <td>A11N155CW1UV02</td>\n",
              "      <td>AdrianaM</td>\n",
              "      <td>A little bit boring for me</td>\n",
              "      <td>1399075200</td>\n",
              "    </tr>\n",
              "    <tr>\n",
              "      <th>1</th>\n",
              "      <td>B000H00VBQ</td>\n",
              "      <td>[0, 0]</td>\n",
              "      <td>5.0</td>\n",
              "      <td>I highly recommend this series. It is a must f...</td>\n",
              "      <td>09 3, 2012</td>\n",
              "      <td>A3BC8O2KCL29V2</td>\n",
              "      <td>Carol T</td>\n",
              "      <td>Excellent Grown Up TV</td>\n",
              "      <td>1346630400</td>\n",
              "    </tr>\n",
              "    <tr>\n",
              "      <th>2</th>\n",
              "      <td>B000H00VBQ</td>\n",
              "      <td>[0, 1]</td>\n",
              "      <td>1.0</td>\n",
              "      <td>This one is a real snoozer. Don't believe anyt...</td>\n",
              "      <td>10 16, 2013</td>\n",
              "      <td>A60D5HQFOTSOM</td>\n",
              "      <td>Daniel Cooper \"dancoopermedia\"</td>\n",
              "      <td>Way too boring for me</td>\n",
              "      <td>1381881600</td>\n",
              "    </tr>\n",
              "    <tr>\n",
              "      <th>3</th>\n",
              "      <td>B000H00VBQ</td>\n",
              "      <td>[0, 0]</td>\n",
              "      <td>4.0</td>\n",
              "      <td>Mysteries are interesting.  The tension betwee...</td>\n",
              "      <td>10 30, 2013</td>\n",
              "      <td>A1RJPIGRSNX4PW</td>\n",
              "      <td>J. Kaplan \"JJ\"</td>\n",
              "      <td>Robson Green is mesmerizing</td>\n",
              "      <td>1383091200</td>\n",
              "    </tr>\n",
              "    <tr>\n",
              "      <th>4</th>\n",
              "      <td>B000H00VBQ</td>\n",
              "      <td>[1, 1]</td>\n",
              "      <td>5.0</td>\n",
              "      <td>This show always is excellent, as far as briti...</td>\n",
              "      <td>02 11, 2009</td>\n",
              "      <td>A16XRPF40679KG</td>\n",
              "      <td>Michael Dobey</td>\n",
              "      <td>Robson green and great writing</td>\n",
              "      <td>1234310400</td>\n",
              "    </tr>\n",
              "  </tbody>\n",
              "</table>\n",
              "</div>"
            ],
            "text/plain": [
              "         asin helpful  ...                         summary unixReviewTime\n",
              "0  B000H00VBQ  [0, 0]  ...      A little bit boring for me     1399075200\n",
              "1  B000H00VBQ  [0, 0]  ...           Excellent Grown Up TV     1346630400\n",
              "2  B000H00VBQ  [0, 1]  ...           Way too boring for me     1381881600\n",
              "3  B000H00VBQ  [0, 0]  ...     Robson Green is mesmerizing     1383091200\n",
              "4  B000H00VBQ  [1, 1]  ...  Robson green and great writing     1234310400\n",
              "\n",
              "[5 rows x 9 columns]"
            ]
          },
          "metadata": {
            "tags": []
          },
          "execution_count": 22
        }
      ]
    },
    {
      "cell_type": "code",
      "metadata": {
        "id": "GMNyegibBYFc",
        "colab_type": "code",
        "colab": {
          "base_uri": "https://localhost:8080/",
          "height": 433
        },
        "outputId": "3032e7f7-2102-458b-d1a7-287bbec88063"
      },
      "source": [
        "#alternatively:\n",
        "#import pandas as pd\n",
        "#pd.DataFrame(amazon_df.take(5), columns=amazon_df.columns).transpose()"
      ],
      "execution_count": 18,
      "outputs": [
        {
          "output_type": "execute_result",
          "data": {
            "text/html": [
              "<div>\n",
              "<style scoped>\n",
              "    .dataframe tbody tr th:only-of-type {\n",
              "        vertical-align: middle;\n",
              "    }\n",
              "\n",
              "    .dataframe tbody tr th {\n",
              "        vertical-align: top;\n",
              "    }\n",
              "\n",
              "    .dataframe thead th {\n",
              "        text-align: right;\n",
              "    }\n",
              "</style>\n",
              "<table border=\"1\" class=\"dataframe\">\n",
              "  <thead>\n",
              "    <tr style=\"text-align: right;\">\n",
              "      <th></th>\n",
              "      <th>0</th>\n",
              "      <th>1</th>\n",
              "      <th>2</th>\n",
              "      <th>3</th>\n",
              "      <th>4</th>\n",
              "    </tr>\n",
              "  </thead>\n",
              "  <tbody>\n",
              "    <tr>\n",
              "      <th>asin</th>\n",
              "      <td>B000H00VBQ</td>\n",
              "      <td>B000H00VBQ</td>\n",
              "      <td>B000H00VBQ</td>\n",
              "      <td>B000H00VBQ</td>\n",
              "      <td>B000H00VBQ</td>\n",
              "    </tr>\n",
              "    <tr>\n",
              "      <th>helpful</th>\n",
              "      <td>[0, 0]</td>\n",
              "      <td>[0, 0]</td>\n",
              "      <td>[0, 1]</td>\n",
              "      <td>[0, 0]</td>\n",
              "      <td>[1, 1]</td>\n",
              "    </tr>\n",
              "    <tr>\n",
              "      <th>overall</th>\n",
              "      <td>2</td>\n",
              "      <td>5</td>\n",
              "      <td>1</td>\n",
              "      <td>4</td>\n",
              "      <td>5</td>\n",
              "    </tr>\n",
              "    <tr>\n",
              "      <th>reviewText</th>\n",
              "      <td>I had big expectations because I love English ...</td>\n",
              "      <td>I highly recommend this series. It is a must f...</td>\n",
              "      <td>This one is a real snoozer. Don't believe anyt...</td>\n",
              "      <td>Mysteries are interesting.  The tension betwee...</td>\n",
              "      <td>This show always is excellent, as far as briti...</td>\n",
              "    </tr>\n",
              "    <tr>\n",
              "      <th>reviewTime</th>\n",
              "      <td>05 3, 2014</td>\n",
              "      <td>09 3, 2012</td>\n",
              "      <td>10 16, 2013</td>\n",
              "      <td>10 30, 2013</td>\n",
              "      <td>02 11, 2009</td>\n",
              "    </tr>\n",
              "    <tr>\n",
              "      <th>reviewerID</th>\n",
              "      <td>A11N155CW1UV02</td>\n",
              "      <td>A3BC8O2KCL29V2</td>\n",
              "      <td>A60D5HQFOTSOM</td>\n",
              "      <td>A1RJPIGRSNX4PW</td>\n",
              "      <td>A16XRPF40679KG</td>\n",
              "    </tr>\n",
              "    <tr>\n",
              "      <th>reviewerName</th>\n",
              "      <td>AdrianaM</td>\n",
              "      <td>Carol T</td>\n",
              "      <td>Daniel Cooper \"dancoopermedia\"</td>\n",
              "      <td>J. Kaplan \"JJ\"</td>\n",
              "      <td>Michael Dobey</td>\n",
              "    </tr>\n",
              "    <tr>\n",
              "      <th>summary</th>\n",
              "      <td>A little bit boring for me</td>\n",
              "      <td>Excellent Grown Up TV</td>\n",
              "      <td>Way too boring for me</td>\n",
              "      <td>Robson Green is mesmerizing</td>\n",
              "      <td>Robson green and great writing</td>\n",
              "    </tr>\n",
              "    <tr>\n",
              "      <th>unixReviewTime</th>\n",
              "      <td>1399075200</td>\n",
              "      <td>1346630400</td>\n",
              "      <td>1381881600</td>\n",
              "      <td>1383091200</td>\n",
              "      <td>1234310400</td>\n",
              "    </tr>\n",
              "  </tbody>\n",
              "</table>\n",
              "</div>"
            ],
            "text/plain": [
              "                                                                0  ...                                                  4\n",
              "asin                                                   B000H00VBQ  ...                                         B000H00VBQ\n",
              "helpful                                                    [0, 0]  ...                                             [1, 1]\n",
              "overall                                                         2  ...                                                  5\n",
              "reviewText      I had big expectations because I love English ...  ...  This show always is excellent, as far as briti...\n",
              "reviewTime                                             05 3, 2014  ...                                        02 11, 2009\n",
              "reviewerID                                         A11N155CW1UV02  ...                                     A16XRPF40679KG\n",
              "reviewerName                                             AdrianaM  ...                                      Michael Dobey\n",
              "summary                                A little bit boring for me  ...                     Robson green and great writing\n",
              "unixReviewTime                                         1399075200  ...                                         1234310400\n",
              "\n",
              "[9 rows x 5 columns]"
            ]
          },
          "metadata": {
            "tags": []
          },
          "execution_count": 18
        }
      ]
    },
    {
      "cell_type": "code",
      "metadata": {
        "id": "3UCRjEAlCeCK",
        "colab_type": "code",
        "colab": {
          "base_uri": "https://localhost:8080/",
          "height": 360
        },
        "outputId": "48928146-4811-41f9-ee6b-fd0701175198"
      },
      "source": [
        "amazon_df.describe().toPandas()"
      ],
      "execution_count": 27,
      "outputs": [
        {
          "output_type": "execute_result",
          "data": {
            "text/html": [
              "<div>\n",
              "<style scoped>\n",
              "    .dataframe tbody tr th:only-of-type {\n",
              "        vertical-align: middle;\n",
              "    }\n",
              "\n",
              "    .dataframe tbody tr th {\n",
              "        vertical-align: top;\n",
              "    }\n",
              "\n",
              "    .dataframe thead th {\n",
              "        text-align: right;\n",
              "    }\n",
              "</style>\n",
              "<table border=\"1\" class=\"dataframe\">\n",
              "  <thead>\n",
              "    <tr style=\"text-align: right;\">\n",
              "      <th></th>\n",
              "      <th>summary</th>\n",
              "      <th>asin</th>\n",
              "      <th>overall</th>\n",
              "      <th>reviewText</th>\n",
              "      <th>reviewTime</th>\n",
              "      <th>reviewerID</th>\n",
              "      <th>reviewerName</th>\n",
              "      <th>summary</th>\n",
              "      <th>unixReviewTime</th>\n",
              "    </tr>\n",
              "  </thead>\n",
              "  <tbody>\n",
              "    <tr>\n",
              "      <th>0</th>\n",
              "      <td>count</td>\n",
              "      <td>37121</td>\n",
              "      <td>37121</td>\n",
              "      <td>37121</td>\n",
              "      <td>37121</td>\n",
              "      <td>37121</td>\n",
              "      <td>36792</td>\n",
              "      <td>37121</td>\n",
              "      <td>37121</td>\n",
              "    </tr>\n",
              "    <tr>\n",
              "      <th>1</th>\n",
              "      <td>mean</td>\n",
              "      <td>None</td>\n",
              "      <td>4.209557932167776</td>\n",
              "      <td>None</td>\n",
              "      <td>None</td>\n",
              "      <td>None</td>\n",
              "      <td>None</td>\n",
              "      <td>1.4428786142857144E7</td>\n",
              "      <td>1.3767907963686323E9</td>\n",
              "    </tr>\n",
              "    <tr>\n",
              "      <th>2</th>\n",
              "      <td>stddev</td>\n",
              "      <td>None</td>\n",
              "      <td>1.1185741872746504</td>\n",
              "      <td>None</td>\n",
              "      <td>None</td>\n",
              "      <td>None</td>\n",
              "      <td>None</td>\n",
              "      <td>3.8174361192681804E7</td>\n",
              "      <td>3.0549835612023447E7</td>\n",
              "    </tr>\n",
              "    <tr>\n",
              "      <th>3</th>\n",
              "      <td>min</td>\n",
              "      <td>B000H00VBQ</td>\n",
              "      <td>1.0</td>\n",
              "      <td>\"13 Assassins\" is a remake of a 1963 film, upd...</td>\n",
              "      <td>01 1, 2007</td>\n",
              "      <td>A0705654XT5UCAYOY7TH</td>\n",
              "      <td>Leah  \"Leah\"</td>\n",
              "      <td>!!!!</td>\n",
              "      <td>975456000</td>\n",
              "    </tr>\n",
              "    <tr>\n",
              "      <th>4</th>\n",
              "      <td>max</td>\n",
              "      <td>B00LPWPMCS</td>\n",
              "      <td>5.0</td>\n",
              "      <td>~Why only ten episodes? This is the first fant...</td>\n",
              "      <td>12 9, 2013</td>\n",
              "      <td>AZXS6P5QWNMLC</td>\n",
              "      <td>zzdb</td>\n",
              "      <td>~HUGE FAN HERE!</td>\n",
              "      <td>1406073600</td>\n",
              "    </tr>\n",
              "  </tbody>\n",
              "</table>\n",
              "</div>"
            ],
            "text/plain": [
              "  summary        asin  ...               summary        unixReviewTime\n",
              "0   count       37121  ...                 37121                 37121\n",
              "1    mean        None  ...  1.4428786142857144E7  1.3767907963686323E9\n",
              "2  stddev        None  ...  3.8174361192681804E7  3.0549835612023447E7\n",
              "3     min  B000H00VBQ  ...                  !!!!             975456000\n",
              "4     max  B00LPWPMCS  ...       ~HUGE FAN HERE!            1406073600\n",
              "\n",
              "[5 rows x 9 columns]"
            ]
          },
          "metadata": {
            "tags": []
          },
          "execution_count": 27
        }
      ]
    },
    {
      "cell_type": "code",
      "metadata": {
        "id": "XF8rrqz-C9Sn",
        "colab_type": "code",
        "colab": {
          "base_uri": "https://localhost:8080/",
          "height": 111
        },
        "outputId": "e7113356-9664-4f51-fe80-b62186abbf44"
      },
      "source": [
        "#Get summary numeric (double) column\n",
        "numeric_features = [t[0] for t in amazon_df.dtypes if t[1] == 'double']\n",
        "amazon_df.select(numeric_features).describe().toPandas().transpose()"
      ],
      "execution_count": 28,
      "outputs": [
        {
          "output_type": "execute_result",
          "data": {
            "text/html": [
              "<div>\n",
              "<style scoped>\n",
              "    .dataframe tbody tr th:only-of-type {\n",
              "        vertical-align: middle;\n",
              "    }\n",
              "\n",
              "    .dataframe tbody tr th {\n",
              "        vertical-align: top;\n",
              "    }\n",
              "\n",
              "    .dataframe thead th {\n",
              "        text-align: right;\n",
              "    }\n",
              "</style>\n",
              "<table border=\"1\" class=\"dataframe\">\n",
              "  <thead>\n",
              "    <tr style=\"text-align: right;\">\n",
              "      <th></th>\n",
              "      <th>0</th>\n",
              "      <th>1</th>\n",
              "      <th>2</th>\n",
              "      <th>3</th>\n",
              "      <th>4</th>\n",
              "    </tr>\n",
              "  </thead>\n",
              "  <tbody>\n",
              "    <tr>\n",
              "      <th>summary</th>\n",
              "      <td>count</td>\n",
              "      <td>mean</td>\n",
              "      <td>stddev</td>\n",
              "      <td>min</td>\n",
              "      <td>max</td>\n",
              "    </tr>\n",
              "    <tr>\n",
              "      <th>overall</th>\n",
              "      <td>37121</td>\n",
              "      <td>4.209557932167776</td>\n",
              "      <td>1.1185741872746504</td>\n",
              "      <td>1.0</td>\n",
              "      <td>5.0</td>\n",
              "    </tr>\n",
              "  </tbody>\n",
              "</table>\n",
              "</div>"
            ],
            "text/plain": [
              "             0                  1                   2    3    4\n",
              "summary  count               mean              stddev  min  max\n",
              "overall  37121  4.209557932167776  1.1185741872746504  1.0  5.0"
            ]
          },
          "metadata": {
            "tags": []
          },
          "execution_count": 28
        }
      ]
    },
    {
      "cell_type": "code",
      "metadata": {
        "id": "Cozs8hzSE26z",
        "colab_type": "code",
        "colab": {
          "base_uri": "https://localhost:8080/",
          "height": 187
        },
        "outputId": "25481fd1-3cb7-46e7-e7dc-f4140dd35251"
      },
      "source": [
        "amazon_df.registerTempTable('reviews')\n",
        "sqlContext.sql(\"select overall, count(overall) as reviewCount from reviews group by overall order by overall desc\").show()"
      ],
      "execution_count": 35,
      "outputs": [
        {
          "output_type": "stream",
          "text": [
            "+-------+-----------+\n",
            "|overall|reviewCount|\n",
            "+-------+-----------+\n",
            "|    5.0|      20888|\n",
            "|    4.0|       8445|\n",
            "|    3.0|       4185|\n",
            "|    2.0|       1885|\n",
            "|    1.0|       1718|\n",
            "+-------+-----------+\n",
            "\n"
          ],
          "name": "stdout"
        }
      ]
    },
    {
      "cell_type": "markdown",
      "metadata": {
        "id": "Okolvk2fLIyF",
        "colab_type": "text"
      },
      "source": [
        "Let's recode the overall score to positive or negative\n",
        "\n",
        "* Positive: overall > 3\n",
        "* Negative: overall <= 3"
      ]
    },
    {
      "cell_type": "code",
      "metadata": {
        "id": "-q6fxQzuF19U",
        "colab_type": "code",
        "colab": {}
      },
      "source": [
        "udf = UserDefinedFunction(lambda x: 1 if x > 3.0 else -1, IntegerType())\n",
        "amazon_df = amazon_df.withColumn(\"overall_recode\", udf(amazon_df.overall))"
      ],
      "execution_count": 0,
      "outputs": []
    },
    {
      "cell_type": "code",
      "metadata": {
        "id": "4uOIh_9NK2oP",
        "colab_type": "code",
        "colab": {
          "base_uri": "https://localhost:8080/",
          "height": 296
        },
        "outputId": "6e751793-fd70-4d47-e599-44a892a37377"
      },
      "source": [
        "#Plot two labels\n",
        "\n",
        "plt.rcParams['figure.figsize'] = (15,6)\n",
        "\n",
        "statuses = amazon_df.groupBy('overall_recode').count().collect()\n",
        "\n",
        "categories = [i[0] for i in statuses]\n",
        "counts = [i[1] for i in statuses]\n",
        "\n",
        "ind = np.array(range(len(categories)))\n",
        "width = 0.35\n",
        "plt.bar(ind, counts, width=width, color='g')\n",
        "\n",
        "plt.ylabel('counts')\n",
        "plt.title('distribution')\n",
        "plt.xticks(ind + width/2., categories)\n",
        "plt.show()"
      ],
      "execution_count": 37,
      "outputs": [
        {
          "output_type": "display_data",
          "data": {
            "image/png": "[encoded data removed]",
            "text/plain": [
              "<Figure size 1080x432 with 1 Axes>"
            ]
          },
          "metadata": {
            "tags": []
          }
        }
      ]
    },
    {
      "cell_type": "code",
      "metadata": {
        "id": "DjtXlwiDMbQ4",
        "colab_type": "code",
        "colab": {
          "base_uri": "https://localhost:8080/",
          "height": 289
        },
        "outputId": "07dcf6b4-8846-4b34-ea4a-10e4aaac0054"
      },
      "source": [
        "amazon_df.select(\"overall\", \"overall_recode\", \"summary\", \"reviewText\").show(10)"
      ],
      "execution_count": 38,
      "outputs": [
        {
          "output_type": "stream",
          "text": [
            "+-------+--------------+--------------------+--------------------+\n",
            "|overall|overall_recode|             summary|          reviewText|\n",
            "+-------+--------------+--------------------+--------------------+\n",
            "|    2.0|            -1|A little bit bori...|I had big expecta...|\n",
            "|    5.0|             1|Excellent Grown U...|I highly recommen...|\n",
            "|    1.0|            -1|Way too boring fo...|This one is a rea...|\n",
            "|    4.0|             1|Robson Green is m...|Mysteries are int...|\n",
            "|    5.0|             1|Robson green and ...|This show always ...|\n",
            "|    5.0|             1|I purchased the s...|I discovered this...|\n",
            "|    3.0|            -1|It takes up your ...|It beats watching...|\n",
            "|    3.0|            -1|A reasonable way ...|There are many ep...|\n",
            "|    5.0|             1|           kansas001|This is the best ...|\n",
            "|    3.0|            -1| Entertaining Comedy|Not bad.  Didn't ...|\n",
            "+-------+--------------+--------------------+--------------------+\n",
            "only showing top 10 rows\n",
            "\n"
          ],
          "name": "stdout"
        }
      ]
    },
    {
      "cell_type": "code",
      "metadata": {
        "id": "Gws37o52M9Xx",
        "colab_type": "code",
        "colab": {}
      },
      "source": [
        "tokenizer = Tokenizer(inputCol='reviewText', outputCol=\"tokenized_text\").transform(amazon_df)\n",
        "\n",
        "word2Vec = Word2Vec(vectorSize=300, seed=42, inputCol=\"tokenized_text\", outputCol=\"w2v_vector\").fit(tokenizer)\n",
        "\n",
        "w2vdf = word2Vec.transform(tokenizer)"
      ],
      "execution_count": 0,
      "outputs": []
    },
    {
      "cell_type": "code",
      "metadata": {
        "id": "bqiz2uULPujm",
        "colab_type": "code",
        "colab": {
          "base_uri": "https://localhost:8080/",
          "height": 289
        },
        "outputId": "722180b5-e73d-4eb7-ba55-76aef9f23ac4"
      },
      "source": [
        "w2vdf.printSchema()"
      ],
      "execution_count": 40,
      "outputs": [
        {
          "output_type": "stream",
          "text": [
            "root\n",
            " |-- asin: string (nullable = true)\n",
            " |-- helpful: array (nullable = true)\n",
            " |    |-- element: long (containsNull = true)\n",
            " |-- overall: double (nullable = true)\n",
            " |-- reviewText: string (nullable = true)\n",
            " |-- reviewTime: string (nullable = true)\n",
            " |-- reviewerID: string (nullable = true)\n",
            " |-- reviewerName: string (nullable = true)\n",
            " |-- summary: string (nullable = true)\n",
            " |-- unixReviewTime: long (nullable = true)\n",
            " |-- overall_recode: integer (nullable = true)\n",
            " |-- tokenized_text: array (nullable = true)\n",
            " |    |-- element: string (containsNull = true)\n",
            " |-- w2v_vector: vector (nullable = true)\n",
            "\n"
          ],
          "name": "stdout"
        }
      ]
    },
    {
      "cell_type": "code",
      "metadata": {
        "id": "xYdZScxLQm8S",
        "colab_type": "code",
        "colab": {
          "base_uri": "https://localhost:8080/",
          "height": 289
        },
        "outputId": "8ab4e947-1dfe-41da-87ed-042138c1ee43"
      },
      "source": [
        "w2vdf.select(\"overall_recode\", \"reviewText\", \"tokenized_text\", \"w2v_vector\").show(10)"
      ],
      "execution_count": 41,
      "outputs": [
        {
          "output_type": "stream",
          "text": [
            "+--------------+--------------------+--------------------+--------------------+\n",
            "|overall_recode|          reviewText|      tokenized_text|          w2v_vector|\n",
            "+--------------+--------------------+--------------------+--------------------+\n",
            "|            -1|I had big expecta...|[i, had, big, exp...|[-0.0386027075583...|\n",
            "|             1|I highly recommen...|[i, highly, recom...|[0.03085500549059...|\n",
            "|            -1|This one is a rea...|[this, one, is, a...|[0.00350296836292...|\n",
            "|             1|Mysteries are int...|[mysteries, are, ...|[0.00306359282694...|\n",
            "|             1|This show always ...|[this, show, alwa...|[0.00180407294192...|\n",
            "|             1|I discovered this...|[i, discovered, t...|[0.00200728614325...|\n",
            "|            -1|It beats watching...|[it, beats, watch...|[-0.0376871883403...|\n",
            "|            -1|There are many ep...|[there, are, many...|[-0.0319872667490...|\n",
            "|             1|This is the best ...|[this, is, the, b...|[-0.0174919149108...|\n",
            "|            -1|Not bad.  Didn't ...|[not, bad., , did...|[-0.0208042743357...|\n",
            "+--------------+--------------------+--------------------+--------------------+\n",
            "only showing top 10 rows\n",
            "\n"
          ],
          "name": "stdout"
        }
      ]
    },
    {
      "cell_type": "markdown",
      "metadata": {
        "id": "CYVsy6YZQ3NQ",
        "colab_type": "text"
      },
      "source": [
        "Building models"
      ]
    },
    {
      "cell_type": "code",
      "metadata": {
        "id": "KGoGHyphQvtJ",
        "colab_type": "code",
        "colab": {}
      },
      "source": [
        "#Random Forest\n",
        "\n",
        "# Build the training indexers/split data/classifier\n",
        "# first we'll generate a labelIndexer\n",
        "labelIndexer = StringIndexer(inputCol=\"overall_recode\", outputCol=\"indexedLabel\").fit(w2vdf)\n",
        "\n",
        "# now generate the indexed feature vector.\n",
        "featureIndexer = VectorIndexer(inputCol=\"w2v_vector\", outputCol=\"indexedFeatures\", maxCategories=4).fit(w2vdf)\n",
        "\n",
        "# Split the data into training and validation sets (20% held out for testing)\n",
        "(trainingData, testData) = w2vdf.randomSplit([TRAINING_DATA_RATIO, 1 - TRAINING_DATA_RATIO])\n",
        "\n",
        "# Train a RandomForest model.\n",
        "rf = RandomForestClassifier(labelCol=\"indexedLabel\", featuresCol=\"indexedFeatures\", numTrees=RF_NUM_TREES)\n",
        "\n",
        "# Chain indexers and forest in a Pipeline\n",
        "pipeline = Pipeline(stages=[labelIndexer, featureIndexer, rf])"
      ],
      "execution_count": 0,
      "outputs": []
    },
    {
      "cell_type": "code",
      "metadata": {
        "id": "sxpYkIJ9SxYl",
        "colab_type": "code",
        "colab": {}
      },
      "source": [
        "# Train model\n",
        "rf_model = pipeline.fit(trainingData)\n",
        "\n",
        "# Make predictions\n",
        "predictions = rf_model.transform(testData)"
      ],
      "execution_count": 0,
      "outputs": []
    },
    {
      "cell_type": "markdown",
      "metadata": {
        "id": "AMabJ97oTMyR",
        "colab_type": "text"
      },
      "source": [
        "Evaluation"
      ]
    },
    {
      "cell_type": "code",
      "metadata": {
        "id": "VqEsD1N6TGSd",
        "colab_type": "code",
        "colab": {
          "base_uri": "https://localhost:8080/",
          "height": 51
        },
        "outputId": "8404b221-ff56-4dc2-85ff-f8d3a7af6c1f"
      },
      "source": [
        "evaluator = MulticlassClassificationEvaluator(labelCol=\"indexedLabel\", predictionCol=\"prediction\", metricName=\"accuracy\")\n",
        "accuracy = evaluator.evaluate(predictions)\n",
        "\n",
        "print(\"Test Error = {}\".format(1.0 - accuracy))\n",
        "print(\"Accuracy = {}\".format(accuracy))"
      ],
      "execution_count": 44,
      "outputs": [
        {
          "output_type": "stream",
          "text": [
            "Test Error = 0.20982202596012312\n",
            "Accuracy = 0.7901779740398769\n"
          ],
          "name": "stdout"
        }
      ]
    },
    {
      "cell_type": "markdown",
      "metadata": {
        "id": "wjdOCYRzXEMO",
        "colab_type": "text"
      },
      "source": [
        "Considering class imbalance (0.79 = positive), this is not an impressive result. Balancing classes and then running the model again would be a good exercise."
      ]
    }
  ]
}